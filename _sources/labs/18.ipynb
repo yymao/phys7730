{
 "cells": [
  {
   "cell_type": "markdown",
   "metadata": {},
   "source": [
    "# Lab 18: Dimensionality Reduction\n",
    "\n",
    "*For the class on Monday, April 8th*"
   ]
  },
  {
   "cell_type": "markdown",
   "metadata": {},
   "source": [
    "## A. Determine the number of dimensions\n",
    "\n",
    "*(In-class activity)* \n",
    "For each of the following cases, determine the number of dimensions (or features) before any feature selection/preprocessing (sometimes called \"ambient dimensionality\"). \n",
    "Your answer should be in the form of \"the number of dimensions is the number of [...]\".\n",
    "\n",
    "1. **Tabular data**: One instance = one row.  Predict the target from the features. \n",
    "2. **Image**: One instance = one image.  Identify the content of the image.  \n",
    "3. **Text**: One instance = one article.  Find similar articles based on the word frequencies.\n",
    "4. **Spectra**: One instance = one spectrum.  Classify the spectra.\n",
    "5. **Ising model**: One instance = one configuration.  Find the most likely temperature the configuration is at. \n",
    "6. **Gravitational systems** (e.g., planetary system):  One instance = one snapshot of the system.  Predict whether any object in the system will be ejected (i.e., become unbound)."
   ]
  },
  {
   "cell_type": "markdown",
   "metadata": {},
   "source": [
    "**Part A**\n",
    "\n",
    "--- \n",
    "*// Write your answers below. Include the name(s) of your group partner(s).*\n",
    "\n",
    "\n",
    "\n",
    "---"
   ]
  },
  {
   "cell_type": "markdown",
   "metadata": {},
   "source": [
    "## B. Principal Component Analysis (PCA)\n",
    "\n",
    "We will apply Principal Component Analysis on the handwritten digits dataset. \n",
    "The specific dataset used here is the one included in [scikit-learn](https://scikit-learn.org/stable/datasets/toy_dataset.html#optical-recognition-of-handwritten-digits-dataset), \n",
    "which comes from the UC Irvine (UCI) Machine Learning Repository. \n",
    "\n",
    "The digit images originally come from the National Institute of Standards and Technology (NIST). \n",
    "As such, the handwritten digits dataset is commonly referred to as the MNIST (Modified NIST) database."
   ]
  },
  {
   "cell_type": "code",
   "execution_count": null,
   "metadata": {},
   "outputs": [],
   "source": [
    "import numpy as np\n",
    "import matplotlib.pyplot as plt\n",
    "\n",
    "from sklearn.datasets import load_digits\n",
    "from sklearn.decomposition import PCA"
   ]
  },
  {
   "cell_type": "code",
   "execution_count": null,
   "metadata": {},
   "outputs": [],
   "source": [
    "# Load digits data\n",
    "data_digits = load_digits(as_frame=True)"
   ]
  },
  {
   "cell_type": "code",
   "execution_count": null,
   "metadata": {},
   "outputs": [],
   "source": [
    "# Inspect raw data\n",
    "instance_index = 42  # change this to inspect other instances\n",
    "\n",
    "fig, ax = plt.subplots(figsize=(2,2))\n",
    "ax.matshow(data_digits.data.iloc[instance_index].values.reshape(8,8), cmap=\"Greys\");\n",
    "ax.axis(\"off\");\n",
    "ax.set_title(f\"{data_digits.target[instance_index]}\");\n"
   ]
  },
  {
   "cell_type": "code",
   "execution_count": null,
   "metadata": {},
   "outputs": [],
   "source": [
    "# Apply PCA to data, and then project the data to the principal component (PC) axes.\n",
    "pca = PCA()\n",
    "pca.fit(data_digits.data)\n",
    "data_after_pca = pca.transform(data_digits.data)"
   ]
  },
  {
   "cell_type": "code",
   "execution_count": null,
   "metadata": {},
   "outputs": [],
   "source": [
    "# Make Scree plot\n",
    "fig, ax = plt.subplots()\n",
    "\n",
    "x = np.arange(1, pca.n_components_+1)\n",
    "ax.bar(x, pca.explained_variance_ratio_, align=\"center\", color=\"C1\", alpha=0.6)\n",
    "ax.set_xlabel('n-th component')\n",
    "ax.set_ylabel('Explained variance ratio (per component)', color=\"C1\")\n",
    "\n",
    "ax2 = ax.twinx()\n",
    "ax2.plot(x, np.cumsum(pca.explained_variance_ratio_), color=\"C0\", lw=2)\n",
    "ax2.set_ylabel('Explained variance ratio (cumulative)', color=\"C0\")\n",
    "ax2.set_ylim(0, 1.05);"
   ]
  },
  {
   "cell_type": "code",
   "execution_count": null,
   "metadata": {},
   "outputs": [],
   "source": [
    "# Visualize the first 5 PCs\n",
    "\n",
    "fig, ax = plt.subplots(1, 5, figsize=(10, 2.5), constrained_layout=True)\n",
    "for i, ax_this in enumerate(ax.flat):\n",
    "    ax_this.matshow(pca.components_[i].reshape(8,8), cmap=\"coolwarm\", vmax=0.4, vmin=-0.4);\n",
    "    ax_this.axis(\"off\")\n",
    "    ax_this.set_title(f\"PC{i+1}\")"
   ]
  },
  {
   "cell_type": "code",
   "execution_count": null,
   "metadata": {},
   "outputs": [],
   "source": [
    "# Project the digits data in the first 3 PCs and display them in a 3D scatter plot\n",
    "\n",
    "fig = plt.figure(figsize=(7,6))\n",
    "ax = fig.add_subplot(projection='3d')\n",
    "cs = ax.scatter(data_after_pca[:,0], data_after_pca[:,1], data_after_pca[:,2], c=data_digits.target, cmap=\"tab10\", s=8)\n",
    "\n",
    "ax.view_init(30, -60)  # change these two numbers to rotate the view\n",
    "\n",
    "ax.set_xlabel(\"PC 1\")\n",
    "ax.set_ylabel(\"PC 2\")\n",
    "ax.set_zlabel(\"PC 3\")\n",
    "plt.colorbar(cs, label=\"digit\", shrink=0.7)\n",
    "fig.tight_layout()"
   ]
  },
  {
   "cell_type": "markdown",
   "metadata": {},
   "source": [
    "**Part B Questions**:\n",
    "\n",
    "1. How many components do you need to explain 80% of the variance for this data set? \n",
    "\n",
    "2. Based on the 3D scatter plot (you may need to rotate the views to answer the following):\n",
    "   - Which digits (0-9) have high coefficients in the first principal component (PC1)? \n",
    "   - Which digits (0-9) have high coefficients in the second principal component (PC2)? \n",
    "   - Which digits (0-9) have high coefficients in the third principal component (PC3)? \n",
    "\n",
    "3. Compare your answers to (2) with the principal component visualization. Briefly (3-4 sentences) describe what you observe. \n",
    "   (Note that in the PC visualization plot, red means high positive dependence, blue means high negative dependence, and grey means little dependence.)\n",
    "\n",
    "--- \n",
    "*// Write your answer here*\n",
    "\n",
    "\n",
    "---"
   ]
  },
  {
   "cell_type": "markdown",
   "metadata": {},
   "source": [
    "## C. Compare with t-distributed Stochastic Neighbor Embedding (t-SNE)\n",
    "\n",
    "Here we compare the projection of the digits dataset in the first two PCs with the t-SNE projection."
   ]
  },
  {
   "cell_type": "code",
   "execution_count": null,
   "metadata": {},
   "outputs": [],
   "source": [
    "# Fit and transform the digits data with t-SNE\n",
    "\n",
    "from sklearn.manifold import TSNE\n",
    "\n",
    "tsne = TSNE()\n",
    "\n",
    "# Note that `TSNE` does not have the `transform` method, so we must use `fit_transform`\n",
    "data_after_tsne = tsne.fit_transform(data_digits.data)"
   ]
  },
  {
   "cell_type": "code",
   "execution_count": null,
   "metadata": {},
   "outputs": [],
   "source": [
    "# Visualize PCA (first two PCs) and t-S\n",
    "datasets = [data_after_pca, data_after_tsne]\n",
    "labels = [\"PCA\", 't-SNE']\n",
    "\n",
    "fig, ax = plt.subplots(ncols=2, figsize=(10.5, 5), constrained_layout=True)\n",
    "for data, label, ax_this in zip(datasets, labels, ax):\n",
    "    cs = ax_this.scatter(data[:,0], data[:,1], c=data_digits.target, s=6, cmap=\"tab10\")\n",
    "    ax_this.set_title(label)\n",
    "plt.colorbar(cs, ax=ax, label=\"digit\");"
   ]
  },
  {
   "cell_type": "markdown",
   "metadata": {},
   "source": [
    "**Part C Question**:\n",
    "\n",
    "1. Why doesn't t-SNE (`TSNE`) have the `.transform()` method? \n",
    "2. Based on what you learned from https://distill.pub/2016/misread-tsne/, \n",
    "   briefly (3-4 sentences) comment on the difference between the PCA and t-SNE projection. \n",
    "\n",
    "--- \n",
    "*// Write your answer here*\n",
    "\n",
    "\n",
    "---"
   ]
  },
  {
   "cell_type": "markdown",
   "metadata": {},
   "source": [
    ":::{tip}\n",
    "**How to submit this notebook on Canvas?**\n",
    "\n",
    "1. Make sure all your answers, code, and desired results are properly displayed in the notebook.\n",
    "2. Save the notebook (press `Ctrl`+`s` or `Cmd`+`s`). The grey dot on the filename tab (indicating \"unsaved\") should disappear. \n",
    "3. Run the following cell.\n",
    "4. Upload the resulting HTML file to Canvas under the corresponding assignment. \n",
    ":::"
   ]
  },
  {
   "cell_type": "code",
   "execution_count": null,
   "metadata": {
    "tags": [
     "remove-output"
    ]
   },
   "outputs": [],
   "source": [
    "! jupyter nbconvert --to html ./18.ipynb"
   ]
  }
 ],
 "metadata": {
  "kernelspec": {
   "display_name": "book",
   "language": "python",
   "name": "python3"
  },
  "language_info": {
   "codemirror_mode": {
    "name": "ipython",
    "version": 3
   },
   "file_extension": ".py",
   "mimetype": "text/x-python",
   "name": "python",
   "nbconvert_exporter": "python",
   "pygments_lexer": "ipython3",
   "version": "3.11.8"
  }
 },
 "nbformat": 4,
 "nbformat_minor": 2
}
