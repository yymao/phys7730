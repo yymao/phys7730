{
 "cells": [
  {
   "cell_type": "markdown",
   "metadata": {},
   "source": [
    "# Lab 16: Classification III: Neural Networks and Deep Learning\n",
    "\n",
    "*For the class on Monday, April 1st*\n",
    "\n",
    "No code needs to be run in this notebook. \n",
    "You can still download the notebook and write your answers in this notebook, and submit it as usual.\n",
    "Alternatively, you can directly submit your answers on Canvas, either as plain text or a PDF file. "
   ]
  },
  {
   "cell_type": "markdown",
   "metadata": {},
   "source": [
    "## A. Neural Network Playground (in class)\n",
    "\n",
    "Go to [this link](https://bit.ly/3vyo1am). Try the following changes and document what you observe.\n",
    "\n",
    "1. Remove one neuron\n",
    "\n",
    "2. Try different learning rates (add back the neuron you removed in Step 1)\n",
    "   - Change learning rate to 0.003\n",
    "   - Change learning rate to 0.3\n",
    "   - Change learning rate to 3\n",
    "\n",
    "3. Try the sigmoid activation function (set learning rate back to 0.03)\n",
    "\n",
    "4. Try L2 regularization with regularization rate of 0.1 (set activation back to ReLU)"
   ]
  },
  {
   "cell_type": "markdown",
   "metadata": {},
   "source": [
    "---\n",
    "*Add your answer to Part A here:*\n",
    "\n",
    "\n",
    "---"
   ]
  },
  {
   "cell_type": "markdown",
   "metadata": {},
   "source": [
    "## B. Text Classification with TensorFlow\n",
    "\n",
    "We will follow the example in [this notebook](https://www.tensorflow.org/hub/tutorials/tf2_text_classification)\n",
    "to do a text classification example using TensorFlow.\n",
    "\n",
    "You are encouraged to run the notebook on Google Colab; however, running the notebook is not required to answer the following questions. \n",
    "\n",
    "The example uses three layers in total: two hidden layers and one output layer. \n",
    "The first hidden layer is a pre-trained text embedding layer that projects input text into a 50-dimensional space. \n",
    "\n",
    "1. How many instances of data in total were used in this notebook? How many were used in the test set? How many were used in the validation set?\n",
    "2. How many neurons are in the second hidden layer?  How many neurons are in the third layer (the output layer)? \n",
    "3. There are 816 parameters in the second layer, and 17 in the third layer. Explain where the numbers 816 and 17 come from. \n",
    "4. The model is trained with 40 epochs, and there are 30 steps in each epoch. Explain where the number 30 comes from.\n",
    "5. From the two plots near the end, we observe that the \"early stopping\" method should help prevent overfitting. What would be a good epoch to stop? \n",
    "6. The two plots show that, for the validation set, the loss keeps increasing as the epoch increases, but the accuracy roughly stays constant. \n",
    "   What do their different behaviors indicate?"
   ]
  },
  {
   "cell_type": "markdown",
   "metadata": {},
   "source": [
    "---\n",
    "*Add your answer to Part B here:*\n",
    "\n",
    "\n",
    "---"
   ]
  },
  {
   "cell_type": "markdown",
   "metadata": {},
   "source": [
    "## C. Final project progress\n",
    "\n",
    "Give a brief (about 2-3 sentences) update on your final project. \n",
    "You can mention what methods you have tried, any issues you have encountered, and/or any preliminary results you have.\n"
   ]
  },
  {
   "cell_type": "markdown",
   "metadata": {},
   "source": [
    "---\n",
    "*Add your answer to Part C here:*\n",
    "\n",
    "\n",
    "---"
   ]
  },
  {
   "cell_type": "markdown",
   "metadata": {},
   "source": [
    "You can submit this notebook as usual, or you can directly submit your answers on Canvas, either as plain text or a PDF file. \n",
    "\n",
    ":::{tip}\n",
    "**How to submit this notebook on Canvas?**\n",
    "\n",
    "1. Make sure all your answers, code, and desired results are properly displayed in the notebook.\n",
    "2. Save the notebook (press `Ctrl`+`s` or `Cmd`+`s`). The grey dot on the filename tab (indicating \"unsaved\") should disappear. \n",
    "3. Run the following cell.\n",
    "4. Upload the resulting HTML file to Canvas under the corresponding assignment. \n",
    ":::"
   ]
  },
  {
   "cell_type": "code",
   "execution_count": null,
   "metadata": {
    "tags": [
     "remove-output"
    ]
   },
   "outputs": [],
   "source": [
    "! jupyter nbconvert --to html ./16.ipynb"
   ]
  }
 ],
 "metadata": {
  "kernelspec": {
   "display_name": "book",
   "language": "python",
   "name": "python3"
  },
  "language_info": {
   "codemirror_mode": {
    "name": "ipython",
    "version": 3
   },
   "file_extension": ".py",
   "mimetype": "text/x-python",
   "name": "python",
   "nbconvert_exporter": "python",
   "pygments_lexer": "ipython3",
   "version": "3.11.8"
  }
 },
 "nbformat": 4,
 "nbformat_minor": 2
}
