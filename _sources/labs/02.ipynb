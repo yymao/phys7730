{
 "cells": [
  {
   "cell_type": "markdown",
   "metadata": {},
   "source": [
    "# Lab 2: Summary Statistics\n",
    "\n",
    "*For the class on Wednesday, January 17th*\n",
    "\n",
    ":::{tip}\n",
    "Looking for [hints](../labs-extra/02)?\n",
    ":::"
   ]
  },
  {
   "cell_type": "markdown",
   "metadata": {},
   "source": [
    "## A. Sample Average and Central Limit Theorem\n",
    "\n",
    "### Setup and Steps\n",
    "\n",
    "1. Generate $n=500$ random variates from the exponential distribution with $\\lambda = 0.5$ (corresponding to `scale=2`; see Lab 2A). \n",
    "   Calculate the sample average and variance. \n",
    "\n",
    "2. Repeat [Step 1]  $k=1,000$ times. You will get $k$ different values of the sample average. Plot a histogram of these $k$ sample averages. \n",
    "   \n",
    "\n",
    "### Questions\n",
    "\n",
    "1. The Central Limit Theorem (CLT) states that the distribution of the sample averages will approach a normal distribution as $k$ increases. \n",
    "   Does your result agree with CLT? What is the variance of the these $k$ sample averages? \n",
    "\n",
    "2. If you change the value of $n$, will the variance of the the $k$ sample averages (from [Step 2]) change? Make a prediction, reason your prediction, and evaluate your prediction.\n",
    "\n",
    "3. If you change the value of $k$, will the variance of the the $k$ sample averages (from [Step 2]) change? Make a prediction, reason your prediction, and evaluate your prediction.\n"
   ]
  },
  {
   "cell_type": "markdown",
   "metadata": {},
   "source": [
    "--- \n",
    "*// Add your answers here*\n",
    "\n",
    "\n",
    "---"
   ]
  },
  {
   "cell_type": "code",
   "execution_count": null,
   "metadata": {},
   "outputs": [],
   "source": [
    "# Include your implementation for Part A here\n"
   ]
  },
  {
   "cell_type": "markdown",
   "metadata": {},
   "source": [
    "## B. Propagation of Uncertainty\n",
    "\n",
    "### Setup and Steps\n",
    "\n",
    "You are measuring the resistance of a resistor with a simple DC circuit. \n",
    "You measure both the voltage across the resistor and the current through the resistor, and then use Ohm's law $V=IR$ to calculate the resistance.\n",
    "If your voltage and current measurements both have an uncertainty of 1%, what is the uncertainty of the calculated resistance?\n",
    "\n",
    "1. Sample from some probability distribution to *simulate* repeated voltage measurements, such that the standard deviation of those measurements is about 1%. \n",
    "\n",
    "2. Repeat Step 1 to *simulate* repeated current measurements. \n",
    "\n",
    "3. Calculate the resistance by pairing the simulated voltage and current measurements from Step 1 and 2. \n",
    "   \n",
    "4. Repeat Steps 1-3 but make the voltage and current measurements positively coorelated. \n",
    "\n",
    "### Questions\n",
    "\n",
    "1. What is the standard deviation of the calculated resistance values from [Step 3] (i.e., when the voltage and current measurements are independent)? \n",
    "   Make a prediction, reason your prediction, and evaluate your prediction.\n",
    "\n",
    "2. How does standard deviation of the calculated resistance change when the voltage and current measurements become correlated in [Step 4]? \n",
    "   Make a prediction, reason your prediction, and evaluate your prediction.\n"
   ]
  },
  {
   "cell_type": "markdown",
   "metadata": {},
   "source": [
    "--- \n",
    "*// Write your answers here*\n",
    "\n",
    "\n",
    "---"
   ]
  },
  {
   "cell_type": "code",
   "execution_count": null,
   "metadata": {},
   "outputs": [],
   "source": [
    "# Include your implementation for Part B here"
   ]
  },
  {
   "cell_type": "markdown",
   "metadata": {},
   "source": [
    "## Final question\n",
    "\n",
    "Roughly how much time did you spend on this lab (*not* including the time you spent in class)?"
   ]
  },
  {
   "cell_type": "markdown",
   "metadata": {},
   "source": [
    "--- \n",
    "*// Write your answers here*\n",
    "\n",
    "\n",
    "---"
   ]
  },
  {
   "cell_type": "markdown",
   "metadata": {},
   "source": [
    ":::{tip}\n",
    "**How to submit this notebook on Canvas?**\n",
    "\n",
    "Once you complete this lab and have all your code, text answers, and all the desired results after running the notebook properly displayed in this notebook, \n",
    "please convert the notebook into HTML format by running the following:\n",
    "\n",
    "```sh\n",
    "jupyter nbconvert --to html /path/to/labs/02.ipynb \n",
    "```\n",
    "\n",
    "Then, upload the resulting HTML file to Canvas for the corresponding assignment. \n",
    ":::"
   ]
  },
  {
   "cell_type": "markdown",
   "metadata": {},
   "source": []
  }
 ],
 "metadata": {
  "kernelspec": {
   "display_name": "book",
   "language": "python",
   "name": "python3"
  },
  "language_info": {
   "codemirror_mode": {
    "name": "ipython",
    "version": 3
   },
   "file_extension": ".py",
   "mimetype": "text/x-python",
   "name": "python",
   "nbconvert_exporter": "python",
   "pygments_lexer": "ipython3",
   "version": "3.11.7"
  }
 },
 "nbformat": 4,
 "nbformat_minor": 2
}
