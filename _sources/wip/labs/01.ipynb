{
 "cells": [
  {
   "cell_type": "markdown",
   "metadata": {},
   "source": [
    "# Lab 1: Sampling Random Variables\n",
    "\n",
    "*For the class on Wednesday, January 10th*\n",
    "\n",
    ":::{tip}\n",
    "Looking for [hints](01-hints)?\n",
    ":::"
   ]
  },
  {
   "cell_type": "markdown",
   "metadata": {},
   "source": [
    "## A. Inverse transform sampling\n",
    "\n",
    "1. Write a function to generate random variates sampled from an exponential distribution. \n",
    "   Its probability density function is $p(x; \\lambda) = \\lambda e^{-\\lambda x}$, defined for all $x \\geq 0$.\n",
    "   Use the inverse transform sampling method with the built-in standard uniform random number generator.\n",
    "\n",
    "2. Generate 1,000 random variates using your function and another 1,000 using `np.random.default_rng().exponential`. \n",
    "   In both cases, set $\\lambda = 2$ (note that the `scale` parameter in the numpy function is defined as $1/\\lambda$). \n",
    "   Make a two-sample quantile-quantile plot (q-q plot) to check if you implement the exponential distribution random variate function correctly. "
   ]
  },
  {
   "cell_type": "code",
   "execution_count": 1,
   "metadata": {},
   "outputs": [],
   "source": [
    "# Put your implementation for Part A here!\n"
   ]
  },
  {
   "cell_type": "markdown",
   "metadata": {},
   "source": [
    "## B. Rejection sampling\n",
    "\n",
    "1. Write a function to generate points that are sampled uniformly at random within the circle $x^2 + y^2 = 1$ on the 2D $xy$ plane. \n",
    "   Use the rejection sampling method with the built-in standard uniform random number generator.\n",
    "2. Use your function to generate 1,000 points and make a scatter plot. Do they look uniformly at random within the circle? \n",
    "3. Write a test (testing on the points that you generated) to convince yourself that your implementation is correct. "
   ]
  },
  {
   "cell_type": "code",
   "execution_count": null,
   "metadata": {},
   "outputs": [],
   "source": [
    "# Put your implementation for Part B here!"
   ]
  },
  {
   "cell_type": "markdown",
   "metadata": {},
   "source": [
    "## C. Sampling random rotations\n"
   ]
  },
  {
   "cell_type": "code",
   "execution_count": 1,
   "metadata": {},
   "outputs": [],
   "source": [
    "# Put your implementation for Part C here!"
   ]
  },
  {
   "cell_type": "markdown",
   "metadata": {},
   "source": [
    ":::{tip}\n",
    "**How to submit this notebook on Canvas?**\n",
    "\n",
    "Once you complete this lab and have all your code, text answers, and all the desired results after running the notebook properly displayed in this notebook, \n",
    "please convert the notebook into HTML format by running the following:\n",
    "\n",
    "```sh\n",
    "jupyter nbconvert --to html /path/to/labs/01.ipynb \n",
    "```\n",
    "\n",
    "Then, upload the resulting HTML file to Canvas for the corresponding assignment. \n",
    ":::"
   ]
  },
  {
   "cell_type": "markdown",
   "metadata": {},
   "source": []
  }
 ],
 "metadata": {
  "kernelspec": {
   "display_name": "book",
   "language": "python",
   "name": "python3"
  },
  "language_info": {
   "codemirror_mode": {
    "name": "ipython",
    "version": 3
   },
   "file_extension": ".py",
   "mimetype": "text/x-python",
   "name": "python",
   "nbconvert_exporter": "python",
   "pygments_lexer": "ipython3",
   "version": "3.11.7"
  }
 },
 "nbformat": 4,
 "nbformat_minor": 2
}
