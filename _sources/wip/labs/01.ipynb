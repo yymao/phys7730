{
 "cells": [
  {
   "cell_type": "markdown",
   "metadata": {},
   "source": [
    "# Lab 1: Sampling Random Variables\n",
    "\n",
    "*For the class on Wednesday, January 10th*"
   ]
  },
  {
   "cell_type": "markdown",
   "metadata": {},
   "source": [
    "## A. Inverse transform sampling\n",
    "\n",
    "1. Generate 2,000 random numbers sampled from a standard Gaussian distribution.\n",
    "2. Make a histrogram of those numbers you generated from Step 1.\n",
    "3. Overplot the probability density function (PDF) of a standard Gaussian distribution. \n",
    "   Normalize the PDF appropriately so that it matches the histrogram. \n",
    "\n",
    "```{margin}\n",
    "- Consider using:\n",
    "- [`scipy.stats.norm`](https://docs.scipy.org/doc/scipy/reference/generated/scipy.stats.norm.html)\n",
    "- [`matplotlib.pyplot.hist`](https://matplotlib.org/stable/api/_as_gen/matplotlib.pyplot.hist.html)\n",
    "```"
   ]
  },
  {
   "cell_type": "code",
   "execution_count": null,
   "metadata": {},
   "outputs": [],
   "source": [
    "# Put your implementation for Part A here"
   ]
  },
  {
   "cell_type": "markdown",
   "metadata": {},
   "source": [
    "### Post-implementation Questions - Part A\n",
    "\n",
    "1. What is the normalizing factor you have to use in Step 3? Can you determine its value a priori? \n",
    "   :::{container} answer\n",
    "   // Put your answers here\n",
    "   \n",
    "   :::"
   ]
  },
  {
   "cell_type": "markdown",
   "metadata": {},
   "source": [
    "## B. Rejection sampling\n",
    "\n",
    "1. Read in [this csv file](https://yymao.github.io/phys7730/data/lab00b-scatter-plot.csv).\n",
    "2. Make a scatter plot for quantities `x` and `y`. Use two different colors for entries with differnet `type` values. \n",
    "3. For each type, calculate the Spearman correlation coefficient between `x` and `y`. \n",
    "\n",
    "```{margin}\n",
    "- Consider using:\n",
    "- [`pandas.read_csv`](https://pandas.pydata.org/docs/reference/api/pandas.read_csv.html)\n",
    "- [`matplotlib.pyplot.scatter`](https://matplotlib.org/stable/api/_as_gen/matplotlib.pyplot.scatter.html)\n",
    "- [`scipy.stats.spearman`](https://docs.scipy.org/doc/scipy/reference/generated/scipy.stats.spearman.html)\n",
    "```"
   ]
  },
  {
   "cell_type": "code",
   "execution_count": null,
   "metadata": {},
   "outputs": [],
   "source": [
    "# Put your implementation for Part B here"
   ]
  },
  {
   "cell_type": "markdown",
   "metadata": {},
   "source": [
    "## C. Sampling random rotations\n",
    "\n",
    "In this question, a maze is a 2d array with 1s and 0s, with 1 means walls and 0 means paths. \n",
    "The upper left (indices 0,0) and lower right (indices -1,-1) corners will always be 0.\n",
    "\n",
    "A maze is solvable if there is a connected path (i.e., 0s) from the upper left corner to the lower right corner. \n",
    "Note that one cannot move diagonally in a maze. \n",
    "\n",
    "1. Use `generate_maze` function (see below) to generate a maze. \n",
    "2. Visualize the maze as a image. \n",
    "3. Determine if the maze is solvable using `scipy.ndimage.label` \n",
    "   (Note: You only need to check whether the maze is solvable; you don't need to find the solving path.)\n",
    "4. Repeat Steps 1 and 3 many times and estimate the probability of the maze being solvable. \n",
    "5. Repeat Step 4 but with a different value of `wall_prob` when calling `generate_maze`. \n",
    "\n",
    "```{margin}\n",
    "- Consider using:\n",
    "- [`matplotlib.pyplot.matshow`](https://matplotlib.org/stable/api/_as_gen/matplotlib.pyplot.matshow.html) or [`matplotlib.pyplot.imshow`](https://matplotlib.org/stable/api/_as_gen/matplotlib.pyplot.imshow.html)\n",
    "- [`scipy.ndimage.label`](https://docs.scipy.org/doc/scipy/reference/generated/scipy.ndimage.label.html)\n",
    "```"
   ]
  },
  {
   "cell_type": "code",
   "execution_count": null,
   "metadata": {},
   "outputs": [],
   "source": [
    "import numpy as np\n",
    "\n",
    "def generate_maze(wall_prob=0.5, size=(100, 100), seed=None):\n",
    "    rng = np.random.default_rng(seed)\n",
    "    maze = (rng.random(size=size) < wall_prob).astype(np.int64)\n",
    "    maze[0,0] = maze[-1,-1] = 0\n",
    "    return maze\n",
    "\n",
    "# Put your implementation for Part C here\n"
   ]
  },
  {
   "cell_type": "markdown",
   "metadata": {},
   "source": [
    "### Post-implementation Questions - Part C\n",
    "\n",
    "1. How does the probability of the maze being solvable changes with the value of `wall_prob`? Can you make a plot showing this dependence?\n",
    "   :::{container} answer\n",
    "   // Put your answers here\n",
    "   \n",
    "   :::\n",
    "\n",
    "2. (*Optional*) How does the dependence you obtain in Q1 change with the maze size?\n",
    "   :::{container} answer\n",
    "   // Put your answers here\n",
    "   \n",
    "   :::\n",
    "   "
   ]
  },
  {
   "cell_type": "markdown",
   "metadata": {},
   "source": [
    ":::{tip}\n",
    "**How to submit this notebook on Canvas?**\n",
    "\n",
    "Once you complete this lab and have all your code, text answers, and all the desired results after running the notebook properly displayed in this notebook, \n",
    "please convert the notebook into HTML format by running the following:\n",
    "\n",
    "```sh\n",
    "jupyter nbconvert --to html /path/to/labs/00.ipynb \n",
    "```\n",
    "\n",
    "Then, upload the resulting HTML file to Canvas fpr the corresponding assigment. \n",
    ":::"
   ]
  }
 ],
 "metadata": {
  "kernelspec": {
   "display_name": "book",
   "language": "python",
   "name": "python3"
  },
  "language_info": {
   "codemirror_mode": {
    "name": "ipython",
    "version": 3
   },
   "file_extension": ".py",
   "mimetype": "text/x-python",
   "name": "python",
   "nbconvert_exporter": "python",
   "pygments_lexer": "ipython3",
   "version": "3.12.1"
  }
 },
 "nbformat": 4,
 "nbformat_minor": 2
}
