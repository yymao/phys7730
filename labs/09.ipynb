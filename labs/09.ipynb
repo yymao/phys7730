{
 "cells": [
  {
   "cell_type": "markdown",
   "metadata": {},
   "source": [
    "# Lab 9: Bayesian Analysis\n",
    "\n",
    "*For the class on Monday, February 12th*\n",
    "\n",
    ":::{tip}\n",
    "Looking for [hints](../labs-extra/09)?\n",
    ":::"
   ]
  },
  {
   "cell_type": "markdown",
   "metadata": {},
   "source": [
    "## A. Comparing Samples\n",
    "\n",
    "We have two sets of data points. \n",
    "Data Set 1 has $N_X$ points $(X_1, X_2, ..., X_{N_X})$.\n",
    "Data Set 2 has $N_Y$ points $(Y_1, Y_2, ..., Y_{N_Y})$.\n",
    "\n",
    "We know both are sampled from an exponential distribution, but potentially with different values of $\\lambda$.\n",
    "We want to test if these two data sets come from the same exponential distribution (i.e., same $\\lambda$). \n",
    "\n",
    "Let's say Data Set 1 is sampled from $\\text{Exp}(\\lambda_X=a+b)$ and Data Set 2 from $\\text{Exp}(\\lambda_Y=a-b)$. \n",
    "\n",
    "1. Write down the likelihood function in terms of $a$, $b$, ${X_i}$ and ${Y_i}$.\n",
    "2. Let's take $\\text{Gamma}(\\alpha=2, \\beta=2) = 4ae^{-2a}$ as the prior for $a$, \n",
    "   and $\\mathcal{N}(\\mu=0, \\sigma=1) = \\frac{1}{\\sqrt{2\\pi}}e^{-b^2/2}$ as the prior for $b$. \n",
    "   Write down the posterior function (up to a normalizing constant) in terms of $a$, $b$, ${X_i}$ and ${Y_i}$.\n"
   ]
  },
  {
   "cell_type": "markdown",
   "metadata": {},
   "source": [
    "--- \n",
    "*// Write your answers to Part A here*\n",
    "\n",
    "\n",
    "---"
   ]
  },
  {
   "cell_type": "markdown",
   "metadata": {},
   "source": [
    "## Demo: Find confidence interval \n",
    "\n",
    "The code below demonstrates how to numerically find the 95% confidence interval \n",
    "around 0 for the standard normal distribution."
   ]
  },
  {
   "cell_type": "code",
   "execution_count": null,
   "metadata": {},
   "outputs": [],
   "source": [
    "import numpy as np\n",
    "from scipy.integrate import cumulative_trapezoid\n",
    "from scipy.stats import norm\n",
    "\n",
    "x = np.linspace(0, 3, 30001)\n",
    "y = np.exp(-0.5*x*x) / np.sqrt(2*np.pi)\n",
    "y_int = cumulative_trapezoid(y, x=x, initial=0)\n",
    "print(\"calculated value:\", x[np.searchsorted(y_int, 0.95/2)])\n",
    "print(\"      true value:\", norm.isf((1-0.95)/2))"
   ]
  },
  {
   "cell_type": "markdown",
   "metadata": {},
   "source": [
    "## B. Coin Flips\n",
    "\n",
    "Assume this coin shows heads with a probability of $p$, and tails with a probability of $1-p$.\n",
    "\n",
    "### B1. A simple case\n",
    "\n",
    "We flipped the coin $N=100$ times and got $K=60$ heads. \n",
    "\n",
    "1. Plot the posterior of $p$ assuming a uniform prior. \n",
    "2. What is the maximum a posteriori probability (MAP) estimate? \n",
    "3. What is the 95% confidence interval of your estimate of $p$?\n",
    "4. Is your result from (3) consistent with what you obtained in Lab 3, Part A?"
   ]
  },
  {
   "cell_type": "markdown",
   "metadata": {},
   "source": [
    "--- \n",
    "*// Write your answers to Part B1 here*\n",
    "\n",
    "\n",
    "---"
   ]
  },
  {
   "cell_type": "code",
   "execution_count": null,
   "metadata": {},
   "outputs": [],
   "source": [
    "# Include your implementation for Part B1 here\n"
   ]
  },
  {
   "cell_type": "markdown",
   "metadata": {},
   "source": [
    "### B2. Small number of flips\n",
    "\n",
    "We flipped a coin $N=3$ times and got $K=0$ heads (no heads). \n",
    "\n",
    "1. Plot the posterior of $p$ assuming a uniform prior. \n",
    "2. What is the maximum a posteriori probability (MAP) estimate? \n",
    "3. What is the 95% confidence interval of your estimate of $p$?\n",
    "4. Make a prediction for the number of heads you would obtain if you flip this particular coin 100 times. "
   ]
  },
  {
   "cell_type": "markdown",
   "metadata": {},
   "source": [
    "--- \n",
    "*// Write your answers to Part B2 here*\n",
    "\n",
    "\n",
    "---"
   ]
  },
  {
   "cell_type": "code",
   "execution_count": null,
   "metadata": {},
   "outputs": [],
   "source": [
    "# Include your implementation for Part B2 here\n"
   ]
  },
  {
   "cell_type": "markdown",
   "metadata": {},
   "source": [
    "### B3. Impact of the prior\n",
    "\n",
    "1. Repeat B1 and B2 (all steps in both sections), but replace the prior with $\\text{Beta}(\\alpha=2, \\beta=2) = 6 p(1-p)$.\n",
    "2. Do your answers with this new prior agree with what you expect? Briefly explain."
   ]
  },
  {
   "cell_type": "markdown",
   "metadata": {},
   "source": [
    "--- \n",
    "*// Write your answers to Part B3 here*\n",
    "\n",
    "\n",
    "---"
   ]
  },
  {
   "cell_type": "code",
   "execution_count": null,
   "metadata": {},
   "outputs": [],
   "source": [
    "# Include your implementation for Part B3 here\n"
   ]
  },
  {
   "cell_type": "markdown",
   "metadata": {},
   "source": [
    "## Final question\n",
    "\n",
    "Roughly how much time did you spend on this lab (*not* including the time you spent in class)?"
   ]
  },
  {
   "cell_type": "markdown",
   "metadata": {},
   "source": [
    "--- \n",
    "*// Write your answers here*\n",
    "\n",
    "\n",
    "---"
   ]
  },
  {
   "cell_type": "markdown",
   "metadata": {},
   "source": [
    ":::{tip}\n",
    "**How to submit this notebook on Canvas?**\n",
    "\n",
    "Once you complete this lab and have all your code, text answers, and all the desired results after running the notebook properly displayed in this notebook, \n",
    "please convert the notebook into HTML format by running the following:\n",
    "\n",
    "```sh\n",
    "jupyter nbconvert --to html /path/to/labs/09.ipynb \n",
    "```\n",
    "\n",
    "Then, upload the resulting HTML file to Canvas for the corresponding assignment. \n",
    ":::"
   ]
  },
  {
   "cell_type": "markdown",
   "metadata": {},
   "source": []
  }
 ],
 "metadata": {
  "kernelspec": {
   "display_name": "book",
   "language": "python",
   "name": "python3"
  },
  "language_info": {
   "codemirror_mode": {
    "name": "ipython",
    "version": 3
   },
   "file_extension": ".py",
   "mimetype": "text/x-python",
   "name": "python",
   "nbconvert_exporter": "python",
   "pygments_lexer": "ipython3",
   "version": "3.11.8"
  }
 },
 "nbformat": 4,
 "nbformat_minor": 2
}
