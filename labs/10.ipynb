{
 "cells": [
  {
   "cell_type": "markdown",
   "metadata": {},
   "source": [
    "# Lab 10: MCMC Inference\n",
    "\n",
    "*For the class on Monday, February 12th*\n",
    "\n",
    ":::{tip}\n",
    "You may find [this tutorial of emcee](https://emcee.readthedocs.io/en/stable/tutorials/line/) helpful!\n",
    ":::\n",
    "\n",
    ":::{tip}\n",
    "If you don't have emcee and corner installed, you'll want to install them first. \n",
    "Run the following in a terminal **after you activate the environment you use for this course**.\n",
    "(If running in a notebook, add `!` at the very beginning of the line.)\n",
    "\n",
    "```bash\n",
    "conda install emcee corner\n",
    "```\n",
    ":::"
   ]
  },
  {
   "cell_type": "code",
   "execution_count": null,
   "metadata": {
    "tags": []
   },
   "outputs": [],
   "source": [
    "# Make sure these are install\n",
    "import emcee, corner"
   ]
  },
  {
   "cell_type": "markdown",
   "metadata": {},
   "source": [
    "## A. Comparing Samples, with emcee\n",
    "\n",
    "### A1. The posterior function \n",
    "\n",
    "With the prior and likelihood functions you obtained from Lab 9, Part A, \n",
    "populate the functions `log_prior_a`, `log_prior_b` and `log_likelihood` below. "
   ]
  },
  {
   "cell_type": "code",
   "execution_count": null,
   "metadata": {},
   "outputs": [],
   "source": [
    "# Include your implementation for Part A1 here\n",
    "\n",
    "import numpy as np\n",
    "\n",
    "def log_prior_a(a):\n",
    "    # TODO: implement this function\n",
    "    return\n",
    "\n",
    "\n",
    "def log_prior_b(b):\n",
    "    # TODO: implement this function\n",
    "    return\n",
    "\n",
    "\n",
    "def log_likelihood(a, b, nx, x_sum, ny, y_sum):\n",
    "    if a - b <= 0 or a + b <= 0:\n",
    "        return -np.inf\n",
    "    # TODO: impelement this function\n",
    "    return\n",
    "\n",
    "\n",
    "def log_posterior(parameters, *args):\n",
    "    a, b = parameters\n",
    "    return log_likelihood(a, b, *args) + log_prior_a(a) + log_prior_b(b)"
   ]
  },
  {
   "cell_type": "markdown",
   "metadata": {},
   "source": [
    "### A2. Run MCMC with emcee!\n",
    "\n",
    "The following cell runs the MCMC with emcee using 40 walkers and 5,000 steps per walker.\n",
    "The initial guesses are set to a narrow gaussian distribution around the MLE estimator.\n",
    "\n",
    "Uncomment the last line of the cell below and run it!"
   ]
  },
  {
   "cell_type": "code",
   "execution_count": null,
   "metadata": {},
   "outputs": [],
   "source": [
    "# For A2. Uncomment the last line run this cell\n",
    "import emcee\n",
    "\n",
    "#########\n",
    "# do not change the following two lines\n",
    "data_x = np.random.default_rng(123).exponential(scale=1/0.51, size=100)\n",
    "data_y = np.random.default_rng(753).exponential(scale=1/0.49, size=100)\n",
    "#########\n",
    "\n",
    "nwalkers = 40\n",
    "nsteps = 5000\n",
    "ndim = 2  # we have two parameters, a and b\n",
    "args = [len(data_x), np.sum(data_x), len(data_y), np.sum(data_y)]  # nx, x_sum, ny, y_sum\n",
    "\n",
    "# generate initial guess\n",
    "a0 = (1/np.mean(data_x) + 1/np.mean(data_y)) * 0.5\n",
    "b0 = 1/np.mean(data_x) - 1/np.mean(data_y)\n",
    "p0_center = np.array([a0, b0])\n",
    "p0 = np.random.default_rng().multivariate_normal(p0_center, np.diag((p0_center * 0.1) ** 2), size=int(nwalkers*2))\n",
    "# remove any invalid initial guesses\n",
    "p0 = p0[(p0[:,0] + p0[:,1] > 0) & (p0[:,0] - p0[:,1] > 0)]\n",
    "p0 = p0[:nwalkers]\n",
    "\n",
    "sampler = emcee.EnsembleSampler(nwalkers, ndim, log_posterior, args=args)\n",
    "#sampler.run_mcmc(p0, nsteps, progress=True);"
   ]
  },
  {
   "cell_type": "markdown",
   "metadata": {},
   "source": [
    "### A3. Inspect your MCMC run\n",
    "\n",
    "Do the following inspection for your MCMC run.\n",
    "\n",
    "1. Check the acceptance rate for each walker (use `sampler.acceptance_fraction`).\n",
    "2. Check the autocorrelation time for each parameter (use `sampler.get_autocorr_time()`).\n",
    "3. Plot one chain for each parameter (Use `sampler.get_chain()`)"
   ]
  },
  {
   "cell_type": "code",
   "execution_count": null,
   "metadata": {},
   "outputs": [],
   "source": [
    "# Include your implementation for Part A3, Q1 here\n"
   ]
  },
  {
   "cell_type": "code",
   "execution_count": null,
   "metadata": {},
   "outputs": [],
   "source": [
    "# Include your implementation for Part A3, Q2 here\n"
   ]
  },
  {
   "cell_type": "code",
   "execution_count": null,
   "metadata": {},
   "outputs": [],
   "source": [
    "# Include your implementation for Part A3, Q3 here\n",
    "\n",
    "\n",
    "# Uncomment the following two lines to get started\n",
    "#walker_index = 21\n",
    "#chain_a, chain_b = sampler.get_chain()[:,walker_index,:].T\n"
   ]
  },
  {
   "cell_type": "markdown",
   "metadata": {},
   "source": [
    "#### Question for A3\n",
    "\n",
    "Briefly discuss what you observed above. Do the results from these checks make sense to you? Do you think the MCMC was done correctly?\n",
    "\n",
    "\n",
    "--- \n",
    "*// Write your answers to Part A3 here*\n",
    "\n",
    "\n",
    "---"
   ]
  },
  {
   "cell_type": "markdown",
   "metadata": {},
   "source": [
    "### A4. Make a corner plot for the two parameters (a, b)"
   ]
  },
  {
   "cell_type": "code",
   "execution_count": null,
   "metadata": {},
   "outputs": [],
   "source": [
    "# Include your implementation for Part A4 here\n"
   ]
  },
  {
   "cell_type": "markdown",
   "metadata": {},
   "source": [
    "#### Question for A4\n",
    "\n",
    "Briefly discuss what you observed. What conclusion would you draw from the distribution of a, b? \n",
    "\n",
    "--- \n",
    "*// Write your answers to Part A4 here*\n",
    "\n",
    "\n",
    "---"
   ]
  },
  {
   "cell_type": "markdown",
   "metadata": {},
   "source": [
    "### A5. Repeat the analysis with uniform priors\n",
    "\n",
    "We will do a MCMC run with a uniform prior instead. \n",
    "Repeat the analysis from A3 and A4 and see how the results change."
   ]
  },
  {
   "cell_type": "code",
   "execution_count": null,
   "metadata": {},
   "outputs": [],
   "source": [
    "# For A5 setup: Uncomment the last line run this cell\n",
    "\n",
    "def log_posterior_uniform_priors(parameters, *args):\n",
    "    a, b = parameters\n",
    "    return log_likelihood(a, b, *args)\n",
    "\n",
    "sampler_uniform_priors = emcee.EnsembleSampler(nwalkers, ndim, log_posterior_uniform_priors, args=args)\n",
    "#sampler_uniform_priors.run_mcmc(p0, nsteps, progress=True);"
   ]
  },
  {
   "cell_type": "code",
   "execution_count": null,
   "metadata": {},
   "outputs": [],
   "source": [
    "# For A5: Repeat the steps from A3 and A4"
   ]
  },
  {
   "cell_type": "markdown",
   "metadata": {},
   "source": [
    "#### Question for A5\n",
    "\n",
    "Briefly discuss what you observed. How does the new prior change the result?\n",
    "\n",
    "--- \n",
    "*// Write your answers to Part A5 here*\n",
    "\n",
    "\n",
    "---"
   ]
  },
  {
   "cell_type": "markdown",
   "metadata": {},
   "source": [
    "### A6. Repeat the analysis with different initial guesses\n",
    "\n",
    "We will do another MCMC run with initial guesses centered around $(a=2, b=-0.3)$ instead. \n",
    "Repeat the analysis from A3 and A4 and see how the results change.\n"
   ]
  },
  {
   "cell_type": "code",
   "execution_count": null,
   "metadata": {},
   "outputs": [],
   "source": [
    "# For A6 setup: Uncomment the last line run this cell\n",
    "\n",
    "# generate initial guess\n",
    "a0 = 2\n",
    "b0 = -0.3\n",
    "p0 = np.random.default_rng().multivariate_normal([a0, b0], [[(a0*0.1)**2, 0], [0, (b0*0.1)**2]], size=nwalkers*2)\n",
    "# remove any invalid initial guesses\n",
    "p0 = p0[(p0[:,0] + p0[:,1] > 0) & (p0[:,0] - p0[:,1] > 0)]\n",
    "p0 = p0[:nwalkers]\n",
    "\n",
    "sampler_new_initial_guesses = emcee.EnsembleSampler(nwalkers, ndim, log_posterior, args=args)\n",
    "#sampler_new_initial_guesses.run_mcmc(p0, nsteps, progress=True);"
   ]
  },
  {
   "cell_type": "code",
   "execution_count": null,
   "metadata": {},
   "outputs": [],
   "source": [
    "# For A6: Repeat the steps from A3 and A4"
   ]
  },
  {
   "cell_type": "markdown",
   "metadata": {},
   "source": [
    "#### Question for A6\n",
    "\n",
    "Briefly discuss what you observed. How does the new initial guesses change the result?\n",
    "\n",
    "--- \n",
    "*// Write your answers to Part A6 here*\n",
    "\n",
    "\n",
    "---"
   ]
  },
  {
   "cell_type": "markdown",
   "metadata": {},
   "source": [
    "## Final question\n",
    "\n",
    "Roughly how much time did you spend on this lab (*not* including the time you spent in class)?"
   ]
  },
  {
   "cell_type": "markdown",
   "metadata": {},
   "source": [
    "--- \n",
    "*// Write your answers here*\n",
    "\n",
    "\n",
    "---"
   ]
  },
  {
   "cell_type": "markdown",
   "metadata": {},
   "source": [
    ":::{tip}\n",
    "**How to submit this notebook on Canvas?**\n",
    "\n",
    "Once you complete this lab and have all your code, text answers, and all the desired results after running the notebook properly displayed in this notebook, \n",
    "please convert the notebook into HTML format by running the following:\n",
    "\n",
    "```sh\n",
    "jupyter nbconvert --to html /path/to/labs/10.ipynb \n",
    "```\n",
    "\n",
    "Then, upload the resulting HTML file to Canvas for the corresponding assignment. \n",
    ":::"
   ]
  },
  {
   "cell_type": "markdown",
   "metadata": {},
   "source": []
  }
 ],
 "metadata": {
  "kernelspec": {
   "display_name": "book",
   "language": "python",
   "name": "python3"
  },
  "language_info": {
   "codemirror_mode": {
    "name": "ipython",
    "version": 3
   },
   "file_extension": ".py",
   "mimetype": "text/x-python",
   "name": "python",
   "nbconvert_exporter": "python",
   "pygments_lexer": "ipython3",
   "version": "3.11.7"
  }
 },
 "nbformat": 4,
 "nbformat_minor": 2
}
