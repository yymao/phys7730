{
 "cells": [
  {
   "cell_type": "markdown",
   "metadata": {},
   "source": [
    "# Lab 14: Classification I: Prediction and Probability Calibration\n",
    "\n",
    "*For the class on Monday, March 25th*\n",
    "\n",
    "\n",
    "We use the [Iris data set](https://scikit-learn.org/stable/auto_examples/datasets/plot_iris_dataset.html)\n",
    "in this lab to demonstrate a few classification methods and related techniques. \n",
    "\n",
    "Because we are using the data set only as a demonstration, we will use all data as training data,\n",
    "but be aware that this is *not* a good practice when you have a real problem to tackle!\n",
    "\n",
    "We also only use two of the four available features so that it is easier to visualize. \n",
    "This again is *not* what you typically want to do when analyzing a real problem."
   ]
  },
  {
   "cell_type": "code",
   "execution_count": null,
   "metadata": {},
   "outputs": [],
   "source": [
    "import matplotlib.pyplot as plt\n",
    "from sklearn import datasets\n",
    "from sklearn.naive_bayes import GaussianNB\n",
    "from sklearn.neighbors import KNeighborsClassifier\n",
    "from sklearn.gaussian_process import GaussianProcessClassifier\n",
    "from sklearn.calibration import CalibratedClassifierCV\n",
    "from sklearn.inspection import DecisionBoundaryDisplay\n",
    "from sklearn.metrics import ConfusionMatrixDisplay\n",
    "from sklearn.calibration import CalibrationDisplay"
   ]
  },
  {
   "cell_type": "code",
   "execution_count": null,
   "metadata": {},
   "outputs": [],
   "source": [
    "# Load the iris data\n",
    "iris = datasets.load_iris()\n",
    "X = iris.data[:, :2]  # we only take the first two features.\n",
    "Y = iris.target"
   ]
  },
  {
   "cell_type": "code",
   "execution_count": null,
   "metadata": {},
   "outputs": [],
   "source": [
    "# Plot the iris data\n",
    "n_classes = len(iris.target_names)\n",
    "for i in range(n_classes):\n",
    "    plt.scatter(X[Y==i, 0], X[Y==i, 1], color=plt.cm.Paired(i/(n_classes-1)), marker=\"os^\"[i], label=f\"{i}: {iris.target_names[i]}\")\n",
    "plt.legend()\n",
    "plt.xlabel(iris.feature_names[0])\n",
    "plt.ylabel(iris.feature_names[1]);"
   ]
  },
  {
   "cell_type": "markdown",
   "metadata": {},
   "source": [
    "## A. Decision boundaries, classification probability, confusion matrix\n",
    "\n",
    "We will test four different classifiers on the Iris data set, and plot their decision boundaries in the feature space. \n",
    "We will also show the classification probability for Class 0 (Setosa) for each method. \n",
    "Finally we plot the confusion matrix for all 3 classes for the Naive Bayes method."
   ]
  },
  {
   "cell_type": "code",
   "execution_count": null,
   "metadata": {},
   "outputs": [],
   "source": [
    "# Code modified from https://scikit-learn.org/stable/auto_examples/linear_model/plot_iris_logistic.html\n",
    "\n",
    "classifiers = [\n",
    "    GaussianNB(),\n",
    "    GaussianProcessClassifier(),\n",
    "    KNeighborsClassifier(n_neighbors=1),\n",
    "    KNeighborsClassifier(n_neighbors=5),\n",
    "]\n",
    "\n",
    "fig, ax = plt.subplots(2, 4, figsize=(16,8))\n",
    "\n",
    "for i, clf in enumerate(classifiers):\n",
    "    clf.fit(X, Y)\n",
    "\n",
    "    DecisionBoundaryDisplay.from_estimator(\n",
    "        clf,\n",
    "        X,\n",
    "        cmap=plt.cm.Paired,\n",
    "        ax=ax[0,i],\n",
    "        response_method=\"predict\",\n",
    "        plot_method=\"pcolormesh\",\n",
    "        shading=\"auto\",\n",
    "        xlabel=iris.feature_names[0],\n",
    "        ylabel=iris.feature_names[1],\n",
    "    )\n",
    "\n",
    "    DecisionBoundaryDisplay.from_estimator(\n",
    "        clf,\n",
    "        X,\n",
    "        cmap=plt.cm.Blues,\n",
    "        ax=ax[1,i],\n",
    "        response_method=\"predict_proba\",\n",
    "        class_of_interest=0,\n",
    "        plot_method=\"pcolormesh\",\n",
    "        shading=\"auto\",\n",
    "        xlabel=iris.feature_names[0],\n",
    "        ylabel=iris.feature_names[1],\n",
    "        vmin=0,\n",
    "        vmax=1,\n",
    "    )\n",
    "\n",
    "    # Plot also the training points\n",
    "    for j in [0, 1]:\n",
    "        ax[j,i].scatter(X[:, 0], X[:, 1], c=Y, edgecolors=\"k\", cmap=plt.cm.Paired)\n",
    "\n",
    "    ax[0,i].set_title(clf.__class__.__name__)\n"
   ]
  },
  {
   "cell_type": "code",
   "execution_count": null,
   "metadata": {},
   "outputs": [],
   "source": [
    "# Confusion matrix\n",
    "clf = GaussianNB()\n",
    "clf.fit(X, Y)\n",
    "ConfusionMatrixDisplay.from_estimator(clf, X, Y);"
   ]
  },
  {
   "cell_type": "markdown",
   "metadata": {},
   "source": [
    "**Part A Questions**:\n",
    "\n",
    "1. The lower panels of the first plot show the classification probability. \n",
    "   Note that for the KNeighborsClassifier, the shades (which show the probability for Class 0) are discrete. \n",
    "   There are two and six shades respectively for the two different KNeighborsClassifier setups (with different `n_neighbors` values).\n",
    "   Explain where the number of shades you observed comes from. \n",
    "\n",
    "2. What value of probability do the decision boundaries correspond to? \n",
    "\n",
    "3. If you see an iris with a sepal length of 4 cm and a sepal width of 5 cm, which class would you predict? Is your prediction consistent with the four methods? \n",
    "\n",
    "4. Continued with (2), how confident is your prediction? Is your confidence consistent with the four methods? Which of the four methods gives the most different result? Can you explain why?\n",
    "\n",
    "5. Based on the confusion matrix: (a) what is the recall for Class 1? (b) what is the contamination for Class 2? Write down the formula you use to do the calculation. \n",
    "\n",
    "--- \n",
    "*// Write your answer here*\n",
    "\n",
    "\n",
    "---"
   ]
  },
  {
   "cell_type": "markdown",
   "metadata": {},
   "source": [
    "## B. Probability Calibration\n",
    "\n",
    "Here we apply the probability calibration to the Gaussian Naive Bayes classifier. \n",
    "\n",
    "We first show the calibration plot, and then show the decision boundaries and probability map (for Class 0). \n",
    "In all 3 plots we show both the uncalibrated and calibrated classifiers. "
   ]
  },
  {
   "cell_type": "code",
   "execution_count": null,
   "metadata": {},
   "outputs": [],
   "source": [
    "classifiers = [\n",
    "    GaussianNB(),\n",
    "    CalibratedClassifierCV(GaussianNB()),\n",
    "]\n",
    "\n",
    "fig, ax = plt.subplots()\n",
    "class_index = 0\n",
    "for i, clf in enumerate(classifiers):\n",
    "    clf.fit(X, Y)\n",
    "\n",
    "    CalibrationDisplay.from_predictions(\n",
    "        (Y == class_index),\n",
    "        clf.predict_proba(X)[:,class_index],\n",
    "        ax=ax,\n",
    "        n_bins=5,\n",
    "        pos_label=True,\n",
    "        name=(\"Calibrated\" if i else \"Not calibrated\"),\n",
    "        marker=(\"s\" if i else \"o\"),\n",
    "    )"
   ]
  },
  {
   "cell_type": "code",
   "execution_count": null,
   "metadata": {},
   "outputs": [],
   "source": [
    "classifiers = [\n",
    "    GaussianNB(),\n",
    "    CalibratedClassifierCV(GaussianNB()),\n",
    "]\n",
    "\n",
    "fig, ax = plt.subplots(2, 2, figsize=(8,8))\n",
    "\n",
    "for i, clf in enumerate(classifiers):\n",
    "    clf.fit(X, Y)\n",
    "\n",
    "    DecisionBoundaryDisplay.from_estimator(\n",
    "        clf,\n",
    "        X,\n",
    "        cmap=plt.cm.Paired,\n",
    "        ax=ax[0,i],\n",
    "        response_method=\"predict\",\n",
    "        plot_method=\"pcolormesh\",\n",
    "        shading=\"auto\",\n",
    "        xlabel=iris.feature_names[0],\n",
    "        ylabel=iris.feature_names[1],\n",
    "    )\n",
    "\n",
    "    DecisionBoundaryDisplay.from_estimator(\n",
    "        clf,\n",
    "        X,\n",
    "        cmap=plt.cm.Blues,\n",
    "        ax=ax[1,i],\n",
    "        response_method=\"predict_proba\",\n",
    "        class_of_interest=0,\n",
    "        plot_method=\"pcolormesh\",\n",
    "        shading=\"auto\",\n",
    "        xlabel=iris.feature_names[0],\n",
    "        ylabel=iris.feature_names[1],\n",
    "        vmin=0,\n",
    "        vmax=1,\n",
    "    )\n",
    "\n",
    "    for j in [0,1]:\n",
    "        ax[j,i].scatter(X[:, 0], X[:, 1], c=Y, edgecolors=\"k\", cmap=plt.cm.Paired)\n",
    "    ax[0,i].set_title(clf.__class__.__name__)\n"
   ]
  },
  {
   "cell_type": "markdown",
   "metadata": {},
   "source": [
    "**Part B  Questions**: \n",
    "\n",
    "1. Explain how the calibration plot was made. For example, there is a blue point around $(x=0.3, y=0)$. How was the location of that point calculated? \n",
    "   (In other words, you should be able to make this plot without using `CalibrationDisplay`, even though you are not asked to actually implement it here.)\n",
    "\n",
    "2. Does the probability calibration affect the decision boundaries? If so, in what way does it affect them?\n",
    "\n",
    "3. Does the probability calibration affect the probability map? If so, in what way does it affect the map?\n",
    "\n",
    "4. Do you think the probability calibration was robust in this case?  Try changing the `n_bins` value in `CalibrationDisplay.from_predictions` to test. \n",
    "   If not, what may be the main factor that prohibits a good calibration? \n",
    "\n",
    "--- \n",
    "*// Write your answer here*\n",
    "\n",
    "\n",
    "---"
   ]
  },
  {
   "cell_type": "markdown",
   "metadata": {},
   "source": [
    ":::{tip}\n",
    "**How to submit this notebook on Canvas?**\n",
    "\n",
    "1. Make sure all your answers, code, and desired results are properly displayed in the notebook.\n",
    "2. Save the notebook (press `Ctrl`+`s` or `Cmd`+`s`). The grey dot on the filename tab (indicating \"unsaved\") should disappear. \n",
    "3. Run the following cell.\n",
    "4. Upload the resulting HTML file to Canvas under the corresponding assignment. \n",
    ":::"
   ]
  },
  {
   "cell_type": "code",
   "execution_count": null,
   "metadata": {
    "tags": [
     "remove-output"
    ]
   },
   "outputs": [],
   "source": [
    "! jupyter nbconvert --to html ./14.ipynb"
   ]
  },
  {
   "cell_type": "markdown",
   "metadata": {},
   "source": []
  }
 ],
 "metadata": {
  "kernelspec": {
   "display_name": "book",
   "language": "python",
   "name": "python3"
  },
  "language_info": {
   "codemirror_mode": {
    "name": "ipython",
    "version": 3
   },
   "file_extension": ".py",
   "mimetype": "text/x-python",
   "name": "python",
   "nbconvert_exporter": "python",
   "pygments_lexer": "ipython3",
   "version": "3.11.8"
  }
 },
 "nbformat": 4,
 "nbformat_minor": 2
}
