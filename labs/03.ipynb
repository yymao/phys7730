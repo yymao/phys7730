{
 "cells": [
  {
   "cell_type": "markdown",
   "metadata": {},
   "source": [
    "# Lab 3: Classical Inference I: Maximum Likelihood Estimation\n",
    "\n",
    "*For the class on Monday, January 22nd*\n",
    "\n",
    ":::{tip}\n",
    "Looking for [hints](../labs-extra/03)?\n",
    ":::"
   ]
  },
  {
   "cell_type": "markdown",
   "metadata": {},
   "source": [
    "## A. Coin Flips\n",
    "\n",
    "We flip a coin $N=100$ times and we want to know at least how many heads we need to see \n",
    "to say that the coin favors heads at a $2\\sigma$ level.\n",
    "Let $K$ denote the number of heads we observe. \n",
    "\n",
    "### Questions\n",
    "\n",
    "1. **Estimate your answer using MLE.** The MLE for the heads probability is $\\hat{p} = K/N$. \n",
    "   The uncertainty of $\\hat{p}$ can be estimated with Fisher information:\n",
    "   \n",
    "   $$\n",
    "     \\sigma_p = \\left(\\left. - \\frac{d^2}{dp^2} \\left[\\ln L(p)\\right] \\right\\vert_{p=\\hat{p}} \\right)^{-1/2} \n",
    "   $$\n",
    "\n",
    "   To say that the coin favors heads at a $2\\sigma$ level, we should have $\\hat{p} > 0.5 + 2 \\sigma_p$ \n",
    "   (that is, the heads probability is $2\\sigma$ above fair).\n",
    "\n",
    "   Express both $\\hat{p}$ and $\\sigma_p$ in terms of $K$ and $N$, then set $N=100$ and find the minimal value of $K$\n",
    "   for the inequality to hold.\n",
    "\n",
    "2. **Estimate your answer with a direct simulation.** \n",
    "\n",
    "   Simulate a fair coin flip for $N=100$ times, record the number of heads. \n",
    "   Repeat this simulation for 10,000 times, and then make a histogram of the number of heads (you should have 10,000 such values).\n",
    "\n",
    "   This histogram would look like a normal distribution, and\n",
    "   we can use the normal distribution to translate \"$2\\sigma$\" into percentiles, which would be 2.275% (lower) and 97.725% (higher).\n",
    "   Out of the 10,000 simulations, find the value number of heads at the percentile of 97.725%.\n",
    "\n",
    "3. Compare your answers from 1 and 2. Do they agree? "
   ]
  },
  {
   "cell_type": "markdown",
   "metadata": {},
   "source": [
    "--- \n",
    "*// Add your answers here*\n",
    "\n",
    "\n",
    "---"
   ]
  },
  {
   "cell_type": "code",
   "execution_count": 37,
   "metadata": {},
   "outputs": [],
   "source": [
    "# Include your implementation for Part A here\n"
   ]
  },
  {
   "cell_type": "markdown",
   "metadata": {},
   "source": [
    "## B. Estimator Properties\n",
    "\n",
    "A continuous uniform distribution $U(a,b)$ has a probability density function with a constant value $1/(b-a)$ when $a \\leq x < b$, and $0$ elsewhere. \n",
    "\n",
    "Let's say we have a set of $N$ numbers ${x_1, x_2, \\dots, x_N}$, and we know they are sampled from $U(a,b)$.\n",
    "However, we do not know the values of the parameters $a$ and $b$. \n",
    "\n",
    "Use MLE to estimate $a$ and $b$, we have $\\hat{a} = \\min_{i} x_i$ (the smallest value of $x_i$) and $\\hat{b} = \\max_{i} x_i$ (the largest value of $x_i$). \n",
    "\n",
    "### Questions\n",
    "\n",
    "1. Are $\\hat{a}$ and $\\hat{b}$ consistent estimators (that is, as $N$ increases, does the estimator converge towards the true value)? \n",
    "   Reason your answer, and then verify it with simulations.\n",
    "\n",
    "2. For a given finite $N$, are $\\hat{a}$ and $\\hat{b}$ unbiased estimators (that is, are the expected value of the estimator and the true value equal)? \n",
    "   Reason your answer, and then verify it with simulations.\n",
    "\n",
    "### How to verify\n",
    "\n",
    "Choose two of your favorite numbers as the true values for $a$ and $b$ (with $a < b$). \n",
    "\n",
    "1. - Generate $N=10$ random numbers and calculate $\\hat{a}$ and $\\hat{b}$. \n",
    "   - Repeat many times but each time with a different value of $N$ (e.g., 10, 100, 1000, 10,000)\n",
    "   - Find out how $\\hat{a}$ and $\\hat{b}$ vary with $N$ and whether they approach $a$ and $b$ as $N$ increases.\n",
    "\n",
    "2. - Choose a value of $N$ (e.g., 100) and keep it fixed for this part.\n",
    "   - Generate $N$ random numbers and calculate $\\hat{a}$ and $\\hat{b}$. \n",
    "   - Repeat many times ($K$ times) with the fixed value of $N$.\n",
    "   - Calculate the sample average of $\\hat{a}$ and $\\hat{b}$. \n",
    "   - Recall that as you increase your simulation sample size (that is $K$, *not* $N$), the sample average would approach the expected value.\n",
    "   - Find out whether $\\hat{a}$ and $\\hat{b}$ approach $a$ and $b$ as $K$ increases."
   ]
  },
  {
   "cell_type": "markdown",
   "metadata": {},
   "source": [
    "--- \n",
    "*// Write your answers here*\n",
    "\n",
    "\n",
    "---"
   ]
  },
  {
   "cell_type": "code",
   "execution_count": 41,
   "metadata": {},
   "outputs": [],
   "source": [
    "# Include your implementation for Part B here"
   ]
  },
  {
   "cell_type": "markdown",
   "metadata": {},
   "source": [
    "## Final question\n",
    "\n",
    "Roughly how much time did you spend on this lab (*not* including the time you spent in class)?"
   ]
  },
  {
   "cell_type": "markdown",
   "metadata": {},
   "source": [
    "--- \n",
    "*// Write your answers here*\n",
    "\n",
    "\n",
    "---"
   ]
  },
  {
   "cell_type": "markdown",
   "metadata": {},
   "source": [
    ":::{tip}\n",
    "**How to submit this notebook on Canvas?**\n",
    "\n",
    "Once you complete this lab and have all your code, text answers, and all the desired results after running the notebook properly displayed in this notebook, \n",
    "please convert the notebook into HTML format by running the following:\n",
    "\n",
    "```sh\n",
    "jupyter nbconvert --to html /path/to/labs/03.ipynb \n",
    "```\n",
    "\n",
    "Then, upload the resulting HTML file to Canvas for the corresponding assignment. \n",
    ":::"
   ]
  },
  {
   "cell_type": "markdown",
   "metadata": {},
   "source": []
  }
 ],
 "metadata": {
  "kernelspec": {
   "display_name": "book",
   "language": "python",
   "name": "python3"
  },
  "language_info": {
   "codemirror_mode": {
    "name": "ipython",
    "version": 3
   },
   "file_extension": ".py",
   "mimetype": "text/x-python",
   "name": "python",
   "nbconvert_exporter": "python",
   "pygments_lexer": "ipython3",
   "version": "3.11.7"
  }
 },
 "nbformat": 4,
 "nbformat_minor": 2
}
