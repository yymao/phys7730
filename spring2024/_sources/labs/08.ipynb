{
 "cells": [
  {
   "cell_type": "markdown",
   "metadata": {},
   "source": [
    "# Lab 8: MCMC Algorithms and Considerations\n",
    "\n",
    "*For the class on Wednesday, February 7th*\n",
    "\n",
    ":::{tip}\n",
    "In this lab, questions are embedded in the implementation steps, but are always shown in bold. \n",
    "Don't forget to answer the questions.\n",
    ":::\n",
    "\n",
    "The following cell defines the same `IsingModel2D` class that we introduced in [Lab 7](07)."
   ]
  },
  {
   "cell_type": "code",
   "execution_count": null,
   "metadata": {
    "tags": [
     "hide-input"
    ]
   },
   "outputs": [],
   "source": [
    "import numpy as np\n",
    "import matplotlib.pyplot as plt\n",
    "\n",
    "class IsingModel2D:\n",
    "    def __init__(self, side_size: int, boundaries=None, initial_values=\"cold\", antiferro=False):\n",
    "        self._side_size = int(side_size)\n",
    "        self._size = self._side_size * self._side_size\n",
    "\n",
    "        indices = np.arange(self._size).reshape((self._side_size, self._side_size))\n",
    "        neighbor_indices = np.stack([\n",
    "            np.roll(indices, 1, 0),   # up\n",
    "            np.roll(indices, -1, 1),  # right\n",
    "            np.roll(indices, -1, 0),  # down\n",
    "            np.roll(indices, 1, 1),   # left\n",
    "        ])\n",
    "\n",
    "        if boundaries not in [None, \"periodic\"]:\n",
    "            try:\n",
    "                bu, br, bd, bl = boundaries\n",
    "            except TypeError:\n",
    "                bu = br = bd = bl = boundaries\n",
    "            idx = np.arange(self._size, self._size + 3)\n",
    "            for bv, s in zip([bu, br, bd, bl], [(0,0), (1,Ellipsis,-1), (2,-1), (3,Ellipsis,0)]):\n",
    "                neighbor_indices[s] = idx[int(np.sign(bv))]\n",
    "\n",
    "        self._neighbor_indices = neighbor_indices.reshape(4, self._size).T\n",
    "\n",
    "        self._data = np.empty(self._size + 3, dtype=np.int32)\n",
    "        self._data[-3:] = [0, 1, -1]\n",
    "        if isinstance(initial_values, str):\n",
    "            if initial_values == \"hot\":\n",
    "                self.data = np.random.default_rng().random(self._size) >= 0.5\n",
    "            elif initial_values == \"cold\":\n",
    "                self.data = 1\n",
    "        else:\n",
    "            self.data = initial_values\n",
    "\n",
    "        self._J = float(-1 if antiferro else 1)\n",
    "\n",
    "    @property\n",
    "    def size(self):\n",
    "        return self._size\n",
    "\n",
    "    @property\n",
    "    def data(self):\n",
    "        return self._data[:-3].reshape(self._side_size, self._side_size).copy()\n",
    "\n",
    "    @data.setter\n",
    "    def data(self, value):\n",
    "        value = np.ravel(value)\n",
    "        if len(value) not in [1, self._size]:\n",
    "            raise ValueError(f\"`value` must be a single value or an array of size {self._size}\")\n",
    "        new_value = np.ones(len(value), dtype=np.int32)\n",
    "        new_value[~(value > 0)] = -1\n",
    "        if len(new_value) == 1:\n",
    "            new_value = new_value[0]\n",
    "        self._data[:-3] = new_value\n",
    "\n",
    "    def show(self, **kwargs):\n",
    "        plt.matshow(self.data, vmax=1, vmin=-1, **kwargs)\n",
    "\n",
    "    def _check_site_index(self, site_index: int):\n",
    "        if not isinstance(site_index, int):\n",
    "            i, j = site_index\n",
    "            site_index = int(i) * self._side_size + int(j)\n",
    "        if site_index >= 0 and site_index < self._size:\n",
    "            return site_index\n",
    "        raise ValueError(f\"`site_index` must be between 0 and {self._size - 1} (inclusive)\")\n",
    "\n",
    "    def calc_magnetization(self):\n",
    "        return self._data[:self._size].sum(dtype=np.float64) / self._size\n",
    "\n",
    "    def calc_total_energy(self, ext_field=0.0):\n",
    "        energy = (\n",
    "            self._data[self._neighbor_indices].sum(axis=1, dtype=np.float64)\n",
    "            * self._data[:self._size]\n",
    "        ).sum(dtype=np.float64) * self._J * (-0.5)\n",
    "        if ext_field:\n",
    "            energy -= self._data[:self._size].sum(dtype=np.float64) * float(ext_field)\n",
    "        return energy\n",
    "\n",
    "    def calc_local_energy(self, site_index: int, ext_field=0.0):\n",
    "        site_index = self._check_site_index(site_index)\n",
    "        energy = (\n",
    "            self._data[self._neighbor_indices[site_index]].sum(dtype=np.float64)\n",
    "            * self._data[site_index]\n",
    "            * self._J\n",
    "            * (-1.0)\n",
    "        )\n",
    "        if ext_field:\n",
    "            energy -= self._data[site_index] * float(ext_field)\n",
    "        return energy\n",
    "\n",
    "    def flip(self, site_index):\n",
    "        self._data[self._check_site_index(site_index)] *= -1\n",
    "\n",
    "    def transition_prob_metropolis(self, site_index: int, beta: float, ext_field=0.0):\n",
    "        return np.exp(2.0 * beta * self.calc_local_energy(site_index, ext_field))\n",
    "\n",
    "    def transition_prob_gibbs(self, site_index: int, beta: float, ext_field=0.0):\n",
    "        return 1.0 / (1.0 + np.exp(-2.0 * beta * self.calc_local_energy(site_index, ext_field)))\n",
    "\n",
    "    def sweep(self, beta, ext_field=0.0, nsweeps=1, seed=None, transition_prob=\"metropolis\"):\n",
    "        rng = np.random.default_rng(seed)\n",
    "        transition_prob_func = getattr(self, f\"transition_prob_{transition_prob}\")\n",
    "        accept = 0\n",
    "        for _  in range(nsweeps):\n",
    "            for i in range(self._size):\n",
    "                if rng.random() < transition_prob_func(i, beta, ext_field):\n",
    "                    self.flip(i)\n",
    "                    accept += 1\n",
    "        return accept / self._size / nsweeps"
   ]
  },
  {
   "cell_type": "markdown",
   "metadata": {},
   "source": [
    "## A. Metropolis-Hastings vs. Gibbs Sampling Methods\n",
    "\n",
    "If we start a 2D Ising model with the \"cold\" initial condition, and set $\\beta$ to a value lower than the critical value (corresponding to a temperature higher than the critical temperature,\n",
    "the Metropolis-Hastings algorithm could fail if the value of $\\beta$ is too low. \n",
    "\n",
    "1. In the code cell below, try a few difference small values of $\\beta$ and **describe what you observe.** \n",
    "   Specifically, how do the value of $\\beta$, the acceptance rate, and the resulting lattice relate to each other? \n",
    "   **Make some plots to demonstrate your answer.**\n",
    "\n",
    "2. Repeat Step 1 but use the Gibbs sampling method by setting `transition_prob='gibbs'` when calling the `sweep` method. \n",
    "   **Describe what you observe.**"
   ]
  },
  {
   "cell_type": "markdown",
   "metadata": {},
   "source": [
    "--- \n",
    "*// Write your answers to Part A here*\n",
    "\n",
    "\n",
    "---"
   ]
  },
  {
   "cell_type": "code",
   "execution_count": null,
   "metadata": {},
   "outputs": [],
   "source": [
    "# Here's the starting point for Step 1\n",
    "\n",
    "m = IsingModel2D(25, initial_values=\"cold\")\n",
    "beta = 0.2\n",
    "acceptance = m.sweep(beta, nsweeps=50)\n",
    "print(acceptance)\n",
    "m.show()"
   ]
  },
  {
   "cell_type": "code",
   "execution_count": null,
   "metadata": {},
   "outputs": [],
   "source": [
    "# Include your implementation for Part A here\n"
   ]
  },
  {
   "cell_type": "markdown",
   "metadata": {},
   "source": [
    "## B. Time to Equilibrate (Burn-in)\n",
    "\n",
    "1. Set up a 30-by-30 lattice with the \"hot\" initial condition. \n",
    "2. Set `beta` to 0.55.\n",
    "3. Run `sweep` 1,000 times, but each time with `nsweeps=1`. After each run, record the average magnetization.\n",
    "4. Make a plot of average magnetization as a function of number of sweeps have run. \n",
    "5. **Describe what you observe. Does the magnetization reach a plateau? How long does it take to reach a plateau?**\n",
    "5. Repeat [Steps 1-4] but with `beta` set to 0.45."
   ]
  },
  {
   "cell_type": "markdown",
   "metadata": {},
   "source": [
    "--- \n",
    "*// Write your answers to Part B here*\n",
    "\n",
    "\n",
    "---"
   ]
  },
  {
   "cell_type": "code",
   "execution_count": null,
   "metadata": {},
   "outputs": [],
   "source": [
    "# Include your implementation for Part B here\n"
   ]
  },
  {
   "cell_type": "markdown",
   "metadata": {},
   "source": [
    "## C. Autocorrelation\n",
    "\n",
    "1. Set up a 30-by-30 lattice with the \"hot\" initial condition. \n",
    "2. Set `beta` to 0.45.\n",
    "3. Run `sweep` 1,000 times, but each time with `nsweeps=1`. After first 100 sweeps, start to record the average magnetization.\n",
    "4. Calculate the average of the 900 average magnetization. We'll call this $\\langle m \\rangle_c$.\n",
    "5. Subtract $\\langle m \\rangle_c$ from the 900 magnetization you collected.\n",
    "6. Calculate the autocorrelation of magnetization (with average subtracted) using the `autocorr` function (defined below)\n",
    "7. **Describe what you observe. Does the autocorrelation deacys? How fast does it decay?**\n",
    "8. Repeat [Steps 1-7] but with `beta` set to 0.55."
   ]
  },
  {
   "cell_type": "markdown",
   "metadata": {},
   "source": [
    "--- \n",
    "*// Write your answers to Part C here*\n",
    "\n",
    "\n",
    "---"
   ]
  },
  {
   "cell_type": "code",
   "execution_count": null,
   "metadata": {},
   "outputs": [],
   "source": [
    "def autocorr(x):\n",
    "    result = np.correlate(x, x, mode='full')\n",
    "    return result[result.size // 2:]"
   ]
  },
  {
   "cell_type": "code",
   "execution_count": null,
   "metadata": {},
   "outputs": [],
   "source": [
    "# Include your implementation for Part C here\n"
   ]
  },
  {
   "cell_type": "markdown",
   "metadata": {},
   "source": [
    "## Final question\n",
    "\n",
    "Roughly how much time did you spend on this lab (*not* including the time you spent in class)?"
   ]
  },
  {
   "cell_type": "markdown",
   "metadata": {},
   "source": [
    "--- \n",
    "*// Write your answers here*\n",
    "\n",
    "\n",
    "---"
   ]
  },
  {
   "cell_type": "markdown",
   "metadata": {},
   "source": [
    ":::{tip}\n",
    "**How to submit this notebook on Canvas?**\n",
    "\n",
    "Once you complete this lab and have all your code, text answers, and all the desired results after running the notebook properly displayed in this notebook, \n",
    "please convert the notebook into HTML format by running the following:\n",
    "\n",
    "```sh\n",
    "jupyter nbconvert --to html /path/to/labs/08.ipynb \n",
    "```\n",
    "\n",
    "Then, upload the resulting HTML file to Canvas for the corresponding assignment. \n",
    ":::"
   ]
  }
 ],
 "metadata": {
  "kernelspec": {
   "display_name": "book",
   "language": "python",
   "name": "python3"
  },
  "language_info": {
   "codemirror_mode": {
    "name": "ipython",
    "version": 3
   },
   "file_extension": ".py",
   "mimetype": "text/x-python",
   "name": "python",
   "nbconvert_exporter": "python",
   "pygments_lexer": "ipython3",
   "version": "3.11.7"
  }
 },
 "nbformat": 4,
 "nbformat_minor": 2
}
