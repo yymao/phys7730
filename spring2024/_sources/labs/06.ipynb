{
 "cells": [
  {
   "cell_type": "markdown",
   "metadata": {},
   "source": [
    "# Lab 6: Random walk and Brownian motion\n",
    "\n",
    "*For the class on Wednesday, January 31st*\n",
    "\n",
    "You can answer the questions based on the discussion you had with your partner in class. (*Indicate your partner's name if applicable.*)\n",
    "\n",
    ":::{tip}\n",
    "Looking for [hints](../labs-extra/06)?\n",
    ":::"
   ]
  },
  {
   "cell_type": "markdown",
   "metadata": {},
   "source": [
    "### Demo: One path of a simple random walk\n",
    "\n",
    "Here we are showing a simple random walk, $x_N = \\sum_{i=1}^{N} s_i$, \n",
    "where $s_i$ is sampled uniformly from $\\{1,-1\\}$. \n",
    "\n",
    "Each time you rerun the cell below you will see a differnet path of a 1000-step simple random walk."
   ]
  },
  {
   "cell_type": "code",
   "execution_count": null,
   "metadata": {},
   "outputs": [],
   "source": [
    "import numpy as np\n",
    "import matplotlib.pyplot as plt\n",
    "\n",
    "n_steps_total = 1000\n",
    "s = np.random.default_rng().integers(2, size=n_steps_total) * 2 - 1\n",
    "x = np.cumsum(s)\n",
    "\n",
    "plt.figure(figsize=(10,4))\n",
    "plt.plot(np.arange(n_steps_total), x);\n",
    "plt.axhline(0, c=\"grey\", lw=1);\n",
    "lim = np.max(np.abs(plt.gca().get_ylim()))\n",
    "plt.ylim(-lim, lim);\n",
    "plt.xlabel(\"Steps\");"
   ]
  },
  {
   "cell_type": "markdown",
   "metadata": {},
   "source": [
    "## A. Scaling and convergence of the diffusively rescaled random walk\n",
    "\n",
    "Recall from [Reading 6](../readings/06), the *diffusively rescaled random walk* is defined as \n",
    "\n",
    "$$\n",
    "    W_N(t) = \\frac{x_{\\lfloor Nt \\rfloor}}{\\sqrt{N}}.\n",
    "$$\n",
    "\n",
    "### Questions\n",
    "\n",
    "1. What is the variance of $x_N$?  Verify your answer with the implementation below.\n",
    "2. What is the variance of $W_N(1)$?  Verify your answer with implementation below.\n",
    "3. Write down an example of how you would check that the diffusively rescaled random walk $W_N(t)$ converges as $N$ increases."
   ]
  },
  {
   "cell_type": "markdown",
   "metadata": {},
   "source": [
    "--- \n",
    "*// Add your answers to A here*\n",
    "\n",
    "\n",
    "---"
   ]
  },
  {
   "cell_type": "markdown",
   "metadata": {},
   "source": [
    "### Steps for Implementation\n",
    "\n",
    "Here we will implement the *diffusively rescaled random walk* defined in [Reading 06](../readings/06). \n",
    "\n",
    "Here's the setup of this random walk:\n",
    "- Runs from $t=0$ to $t=1$. \n",
    "- Each unit of time time discretized to $N$ steps. We will start with $N=100$. \n",
    "\n",
    "Here's the steps to generate multiple realization of this random walk:\n",
    "1. Calculate the total number of steps $Nt_\\text{max}$ you need. Store that in `n_steps_total`.\n",
    "2. Generate the increments at the steps $s_i$ for one diffusively rescaled random walk (see demo above)\n",
    "3. Calculate the paths $x_k = \\sum_{i=0}^{k} s_i$ of this particular random walk (use [`np.cumsum`](https://numpy.org/doc/stable/reference/generated/numpy.cumsum.html); see demo above).\n",
    "4. Repeat [Steps 2 and 3] for $n_\\text{path} = 10,000$ times.\n",
    "5. Plot the *quantile function* of $W_N(t) =  x_{\\lfloor Nt \\rfloor} / \\sqrt{N}$ at $t=1$. \n",
    "\n",
    "Now, repeat this whole process with a few choices of $N$ (e.g., 100, 1,000, 10,000), and then check:\n",
    "- The variances of $x_N$ and $W_N(1)$.\n",
    "- Does the cumulative distribution function of $W_N(t=1)$ look like a standard normal distribution regardless of the value of $N$?\n",
    "- As $N$ increases, does the cumulative distribution function look *more* like a standard normal distribution?"
   ]
  },
  {
   "cell_type": "code",
   "execution_count": null,
   "metadata": {},
   "outputs": [],
   "source": [
    "# Include your implementation for Part A here"
   ]
  },
  {
   "cell_type": "markdown",
   "metadata": {},
   "source": [
    "## B. Universality of simple random walks\n",
    "\n",
    "### Questions\n",
    "\n",
    "Based on the Central Limit Theorem (CLT), if the increments at individal steps are not sampled uniformly from $\\{1,-1\\}$, \n",
    "but from a continuous uniform distribution $\\mathcal{U}(-1, 1)$, how would the distribution of $W_N(t=1)$ look like as $n \\to\\infty$?"
   ]
  },
  {
   "cell_type": "markdown",
   "metadata": {},
   "source": [
    "--- \n",
    "*// Add your answers to Part B here*\n",
    "\n",
    "\n",
    "---"
   ]
  },
  {
   "cell_type": "markdown",
   "metadata": {},
   "source": [
    "\n",
    "### Steps for Implementation\n",
    "\n",
    "Copy the implementation from Part A, and then change the distribution from which $s_i$ is sampled to \n",
    "$ s_i \\sim \\mathcal{U}(-1, 1)$ (continuous uniform distribution on $[-1, 1]$). \n",
    "\n",
    "Calculate the cumulative distribution function $W_{N=100}(t=1)$ in this case, and then check:\n",
    "- Does it look like a standard normal distribution?\n",
    "- If not, what distribution does it look like? Can you make it look like a standard normal distribution?"
   ]
  },
  {
   "cell_type": "code",
   "execution_count": null,
   "metadata": {},
   "outputs": [],
   "source": [
    "# Include your implementation for Part B here"
   ]
  },
  {
   "cell_type": "markdown",
   "metadata": {},
   "source": [
    "## Final question\n",
    "\n",
    "Roughly how much time did you spend on this lab (*not* including the time you spent in class)?"
   ]
  },
  {
   "cell_type": "markdown",
   "metadata": {},
   "source": [
    "--- \n",
    "*// Write your answers here*\n",
    "\n",
    "\n",
    "---"
   ]
  },
  {
   "cell_type": "markdown",
   "metadata": {},
   "source": [
    ":::{tip}\n",
    "**How to submit this notebook on Canvas?**\n",
    "\n",
    "Once you complete this lab and have all your code, text answers, and all the desired results after running the notebook properly displayed in this notebook, \n",
    "please convert the notebook into HTML format by running the following:\n",
    "\n",
    "```sh\n",
    "jupyter nbconvert --to html /path/to/labs/06.ipynb \n",
    "```\n",
    "\n",
    "Then, upload the resulting HTML file to Canvas for the corresponding assignment. \n",
    ":::"
   ]
  },
  {
   "cell_type": "markdown",
   "metadata": {},
   "source": []
  },
  {
   "cell_type": "markdown",
   "metadata": {},
   "source": []
  }
 ],
 "metadata": {
  "kernelspec": {
   "display_name": "book",
   "language": "python",
   "name": "python3"
  },
  "language_info": {
   "codemirror_mode": {
    "name": "ipython",
    "version": 3
   },
   "file_extension": ".py",
   "mimetype": "text/x-python",
   "name": "python",
   "nbconvert_exporter": "python",
   "pygments_lexer": "ipython3",
   "version": "3.11.7"
  }
 },
 "nbformat": 4,
 "nbformat_minor": 2
}
