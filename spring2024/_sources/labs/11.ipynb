{
 "cells": [
  {
   "cell_type": "markdown",
   "metadata": {},
   "source": [
    "# Lab 11: Introduction to scikit-learn\n",
    "\n",
    "*For the class on Monday, March 11th*\n",
    "\n",
    ":::{tip}\n",
    "If you don't have `scikit-learn` installed, you'll want to install them first. \n",
    "Run the following in a terminal **after you activate the environment you use for this course**.\n",
    "(If running in a notebook, add `!` at the very beginning of the line.)\n",
    "\n",
    "```bash\n",
    "conda install -y scikit-learn\n",
    "```\n",
    ":::"
   ]
  },
  {
   "cell_type": "code",
   "execution_count": 1,
   "metadata": {
    "tags": []
   },
   "outputs": [
    {
     "name": "stdout",
     "output_type": "stream",
     "text": [
      "1.4.1.post1\n"
     ]
    }
   ],
   "source": [
    "# Run this cell to check if scikit-learn is installed\n",
    "# scikit-learn version should be at least 1.3.0\n",
    "\n",
    "import sklearn\n",
    "print(sklearn.__version__)"
   ]
  },
  {
   "cell_type": "markdown",
   "metadata": {},
   "source": [
    "## A. Data Representation and Exploration\n",
    "\n",
    "### A1. Basic information about a data set\n",
    "\n",
    "For each of the three datasets loaded below (`data_digits`, `data_solarflare`, `data_transfusion`), find out:\n",
    "- number of instances (samples)\n",
    "- number of features\n",
    "- number of targets\n",
    "- number of classes (for each target)\n",
    "- what question(s) this data set can help answer given the features and targets"
   ]
  },
  {
   "cell_type": "markdown",
   "metadata": {},
   "source": [
    "--- \n",
    "*// Write your answers to Part A1 here*\n",
    "\n",
    "\n",
    "---"
   ]
  },
  {
   "cell_type": "code",
   "execution_count": 2,
   "metadata": {},
   "outputs": [],
   "source": [
    "from sklearn import datasets"
   ]
  },
  {
   "cell_type": "code",
   "execution_count": 3,
   "metadata": {},
   "outputs": [],
   "source": [
    "# https://scikit-learn.org/stable/datasets/toy_dataset.html#optical-recognition-of-handwritten-digits-dataset\n",
    "data_digits = datasets.load_digits(as_frame=True)"
   ]
  },
  {
   "cell_type": "code",
   "execution_count": 5,
   "metadata": {},
   "outputs": [],
   "source": [
    "# https://openml.org/search?type=data&status=active&sort=runs&id=41489\n",
    "data_solarflare = datasets.fetch_openml(\"sf2\", version=2)"
   ]
  },
  {
   "cell_type": "code",
   "execution_count": 6,
   "metadata": {},
   "outputs": [],
   "source": [
    "# https://openml.org/search?type=data&status=active&id=1464\n",
    "data_transfusion = datasets.fetch_openml(\"blood-transfusion-service-center\", version=1)"
   ]
  },
  {
   "cell_type": "markdown",
   "metadata": {},
   "source": [
    "### A2. Exploring a data set\n",
    "\n",
    "Explore the `data_transfusion` data set a little bit. \n",
    "\n",
    "Based on our discussion in class, do some calculations or make some plots to gain a better understanding of this data set. \n",
    "\n",
    "Suggestion: Pick 3 calculations/plots to do/make. Write down what you plan to do, implement them, and breifly discuss what you observe."
   ]
  },
  {
   "cell_type": "markdown",
   "metadata": {},
   "source": [
    "--- \n",
    "*// Write your answers to Part A2 here*\n",
    "\n",
    "\n",
    "---"
   ]
  },
  {
   "cell_type": "code",
   "execution_count": 13,
   "metadata": {},
   "outputs": [],
   "source": [
    "# Add your implementation to Part A2 here\n"
   ]
  },
  {
   "cell_type": "markdown",
   "metadata": {},
   "source": [
    "## B. scikit-learn API basics\n",
    "\n",
    "1. Based on the example code below, repeat the classification task \n",
    "   but with `RidgeClassifier` and the `data_transfusion` data set. \n",
    "   (You don't need to know how does the method work.)\n",
    "2. When using the `RidgeClassifier` method on the `data_transfusion` data set, \n",
    "   what are the values of recall, precision, specificity, and accuracy? \n",
    "   Here you can treat \"2\" (donating blood) as \"True\", and \"1\" (not donating blood) as \"False\".\n"
   ]
  },
  {
   "cell_type": "markdown",
   "metadata": {},
   "source": [
    "--- \n",
    "*// Write your answers to Part B here*\n",
    "\n",
    "\n",
    "---"
   ]
  },
  {
   "cell_type": "code",
   "execution_count": 20,
   "metadata": {},
   "outputs": [],
   "source": [
    "import numpy as np\n",
    "from sklearn.model_selection import train_test_split\n",
    "from sklearn.svm import SVC\n",
    "from sklearn.linear_model import RidgeClassifier"
   ]
  },
  {
   "cell_type": "code",
   "execution_count": 21,
   "metadata": {},
   "outputs": [],
   "source": [
    "train_features, test_features, train_target, test_target = train_test_split(data_digits.data, data_digits.target, test_size=0.25, random_state=123)"
   ]
  },
  {
   "cell_type": "code",
   "execution_count": 17,
   "metadata": {},
   "outputs": [
    {
     "name": "stdout",
     "output_type": "stream",
     "text": [
      "% of correct prediction on the test set\n",
      "Manual calculation 0.9844444444444445\n",
      "W/ .score() method 0.9844444444444445\n"
     ]
    }
   ],
   "source": [
    "clf = SVC()\n",
    "clf.fit(train_features, train_target)\n",
    "test_prediced = clf.predict(test_features)\n",
    "print(\"% of correct prediction on the test set\")\n",
    "print(\"Manual calculation =\", np.count_nonzero(test_prediced == test_target) / len(test_target))\n",
    "print(\"W/ .score() method =\", clf.score(test_features, test_target))"
   ]
  },
  {
   "cell_type": "code",
   "execution_count": 18,
   "metadata": {},
   "outputs": [],
   "source": [
    "# Add your implementation to Part B here\n"
   ]
  },
  {
   "cell_type": "markdown",
   "metadata": {},
   "source": [
    ":::{tip}\n",
    "**How to submit this notebook on Canvas?**\n",
    "\n",
    "1. Make sure all your answers, code, and desired results are properly displayed in the notebook.\n",
    "2. Save the notebook (press `Ctrl`+`s` or `Cmd`+`s`). The grey dot on the filename tab (indicating \"unsaved\") should disappear. \n",
    "3. Run the following cell.\n",
    "4. Upload the resulting HTML file to Canvas under the corresponding assignment. \n",
    ":::"
   ]
  },
  {
   "cell_type": "code",
   "execution_count": null,
   "metadata": {
    "tags": [
     "remove-output"
    ]
   },
   "outputs": [],
   "source": [
    "! jupyter nbconvert --to html ./11.ipynb"
   ]
  },
  {
   "cell_type": "markdown",
   "metadata": {},
   "source": []
  }
 ],
 "metadata": {
  "kernelspec": {
   "display_name": "book",
   "language": "python",
   "name": "python3"
  },
  "language_info": {
   "codemirror_mode": {
    "name": "ipython",
    "version": 3
   },
   "file_extension": ".py",
   "mimetype": "text/x-python",
   "name": "python",
   "nbconvert_exporter": "python",
   "pygments_lexer": "ipython3",
   "version": "3.11.8"
  }
 },
 "nbformat": 4,
 "nbformat_minor": 2
}
