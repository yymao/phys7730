{
 "cells": [
  {
   "cell_type": "markdown",
   "metadata": {},
   "source": [
    "# Lab 4: Classical Inference II: Estimating and Comparing Distributions\n",
    "\n",
    "*For the class on Wednesday, January 24th*\n",
    "\n",
    ":::{tip}\n",
    "Looking for [hints](../labs-extra/04)?\n",
    ":::"
   ]
  },
  {
   "cell_type": "markdown",
   "metadata": {},
   "source": [
    "## A. Standard Error of Statistics\n",
    "\n",
    "The probability density function of an exponential distribution has the form of:\n",
    " \n",
    " $$\n",
    "   p(x; \\lambda) = \\lambda e^{-\\lambda x},\\text{ defined for all } x \\geq 0.\n",
    " $$  \n",
    "\n",
    "Note that when using [`np.random.default_rng().exponential`](https://numpy.org/doc/stable/reference/random/generated/numpy.random.Generator.exponential.html), the input argument `scale` should be set to $1/\\lambda$. \n",
    "\n",
    "\n",
    "### A1. Direct simulation\n",
    "\n",
    ":::{tip}\n",
    "The implementation here will be very similar to [Lab 2](02) Part A! You can consider reuse some of your code.\n",
    "The questions and focus will be different though.\n",
    ":::\n",
    "\n",
    "1. Generate $n=100$ random variates from an exponential distribution with $\\lambda = 0.5$ (`scale=2`). \n",
    "2. Calculate the sample mean, sample median, and sample variance. Record these values.\n",
    "3. Repeat [Steps 1 and 2] $k=10,000$ times.\n",
    "4. Calculate the standard devitation of the $k$ sample means, $k$ sample medians, and $k$  sample variances.\n",
    "   These should be very good estimates of the Standard Error of the Mean, the Standard Error of the Median, and the Standard Error of the Variance. \n"
   ]
  },
  {
   "cell_type": "code",
   "execution_count": null,
   "metadata": {},
   "outputs": [],
   "source": [
    "# Include your implementation for A1 here\n"
   ]
  },
  {
   "cell_type": "markdown",
   "metadata": {},
   "source": [
    "### Questions for Part A1\n",
    "\n",
    "Based on the result you got from A1, write down the formulae (in terms of $n$ and $\\lambda$) for\n",
    "\n",
    "- the Standard Error of the Mean, \n",
    "- the Standard Error of the Median, and \n",
    "- the Standard Error of the Variance\n",
    "\n",
    "for the exponential distribution. \n",
    "\n",
    "You may want to change the values of $n$ and $\\lambda$ and rerun your simulation so that you can verify your answers."
   ]
  },
  {
   "cell_type": "markdown",
   "metadata": {},
   "source": [
    "--- \n",
    "*// Add your answers here*\n",
    "\n",
    "\n",
    "---"
   ]
  },
  {
   "cell_type": "markdown",
   "metadata": {},
   "source": [
    "### A2. Bootstrap\n",
    "\n",
    "Pretend that you didn't know that we are working with the exponential distribution, \n",
    "and that we only had *one* realization of $n=100$ random variates. \n",
    "\n",
    "Use the bootstrap resampling method to estimate the Standard Error of the Mean, \n",
    "the Standard Error of the Median, and the Standard Error of the Variance. \n",
    "\n",
    "### Questions for Part A2\n",
    "\n",
    "Do you expect the results from the bootstrap resampling method agree with what you obtained from A1?\n",
    "Why or why not? Then carry out A2 to verify your answer. "
   ]
  },
  {
   "cell_type": "markdown",
   "metadata": {},
   "source": [
    "--- \n",
    "*// Add your answers here*\n",
    "\n",
    "\n",
    "---"
   ]
  },
  {
   "cell_type": "code",
   "execution_count": null,
   "metadata": {},
   "outputs": [],
   "source": [
    "# Include your implementation for A2 here\n",
    "import numpy as np\n",
    "\n",
    "###############\n",
    "# Do not change this line\n",
    "data = np.random.default_rng(1234).exponential(scale=2, size=100)\n",
    "###############\n",
    "\n",
    "# The line below give you *one* bootstrap sample.\n",
    "data_bootstrap = np.random.default_rng().choice(data, size=len(data))"
   ]
  },
  {
   "cell_type": "markdown",
   "metadata": {},
   "source": [
    "## B. Comparing samples\n",
    "\n",
    "You have two sets of data points. \n",
    "\n",
    "If you don't know what distribution those data points come from, typically you \n",
    "can use the Kolmogorov-Smirnov test (K-S test) to check if the underlying distributions \n",
    "of the two data sets are the same. \n",
    "\n",
    "You can use the [`scipy.stats.kstest`](https://docs.scipy.org/doc/scipy/reference/generated/scipy.stats.kstest.html) function, which implements the K-S test and will return both the test statistic and the corresponding $p$-value.\n",
    "\n",
    "However, some simpler tests can do the job *when* you already know that the two data sets were both sampled from, say,\n",
    "an exponential distribution, but just potentially with different value of $\\lambda$. \n",
    "\n",
    "### Questions for Part B\n",
    "\n",
    "1. For the latter case (both come from an exponential distribution), \n",
    "   formulate a simple test to check if the underlying exponential distributions of the two data sets\n",
    "   have the same value of $\\lambda$ or not.\n",
    "\n",
    "2. Implement both your test and the K-S test on the data sets included in the implementation cell below. \n",
    "   Test between 1 vs. 2, 1 vs. 3, and 1 vs. 4. \n",
    "   Interpret the results from both your test and the K-S test, and briefly explain if they agree with your expectation."
   ]
  },
  {
   "cell_type": "markdown",
   "metadata": {},
   "source": [
    "--- \n",
    "*// Add your answers here*\n",
    "\n",
    "\n",
    "---"
   ]
  },
  {
   "cell_type": "code",
   "execution_count": null,
   "metadata": {},
   "outputs": [],
   "source": [
    "# Include your implementation for Part B here\n",
    "import numpy as np\n",
    "from scipy.stats import kstest\n",
    "\n",
    "#########\n",
    "# do not change the following four lines\n",
    "data1 = np.random.default_rng(123).exponential(scale=2, size=100)\n",
    "data2 = np.random.default_rng(456).exponential(scale=2, size=100)\n",
    "data3 = np.random.default_rng(789).exponential(scale=1, size=100)\n",
    "data4 = np.random.default_rng(753).exponential(scale=1.9, size=100)\n",
    "#########\n",
    "\n",
    "# TODO: Apply your test from Part B, Q1 on data1 and data2\n",
    "\n",
    "\n",
    "# TODO: Apply your test from Part B, Q1 on data1 and data3\n",
    "\n",
    "\n",
    "# TODO: Apply your test from Part B, Q1 on data1 and data4\n",
    "\n",
    "\n",
    "# TODO: Apply K-S test on data1 and data2\n",
    "\n",
    "\n",
    "# TODO: Apply K-S test on data1 and data3\n",
    "\n",
    "\n",
    "# TODO: Apply K-S test on data1 and data4\n",
    "\n",
    "\n",
    "# Remember to go back and answer Part B, Q2 above!"
   ]
  },
  {
   "cell_type": "markdown",
   "metadata": {},
   "source": [
    "## Final question\n",
    "\n",
    "Roughly how much time did you spend on this lab (*not* including the time you spent in class)?"
   ]
  },
  {
   "cell_type": "markdown",
   "metadata": {},
   "source": [
    "--- \n",
    "*// Write your answers here*\n",
    "\n",
    "\n",
    "---"
   ]
  },
  {
   "cell_type": "markdown",
   "metadata": {},
   "source": [
    ":::{tip}\n",
    "**How to submit this notebook on Canvas?**\n",
    "\n",
    "Once you complete this lab and have all your code, text answers, and all the desired results after running the notebook properly displayed in this notebook, \n",
    "please convert the notebook into HTML format by running the following:\n",
    "\n",
    "```sh\n",
    "jupyter nbconvert --to html /path/to/labs/04.ipynb \n",
    "```\n",
    "\n",
    "Then, upload the resulting HTML file to Canvas for the corresponding assignment. \n",
    ":::"
   ]
  },
  {
   "cell_type": "markdown",
   "metadata": {},
   "source": []
  }
 ],
 "metadata": {
  "kernelspec": {
   "display_name": "book",
   "language": "python",
   "name": "python3"
  },
  "language_info": {
   "codemirror_mode": {
    "name": "ipython",
    "version": 3
   },
   "file_extension": ".py",
   "mimetype": "text/x-python",
   "name": "python",
   "nbconvert_exporter": "python",
   "pygments_lexer": "ipython3",
   "version": "3.11.7"
  }
 },
 "nbformat": 4,
 "nbformat_minor": 2
}
