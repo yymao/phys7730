{
 "cells": [
  {
   "cell_type": "markdown",
   "metadata": {},
   "source": [
    "# Lab 7: Ising Model\n",
    "\n",
    "*For the class on Monday, February 5th*\n",
    "\n",
    ":::{tip}\n",
    "In this lab, questions are embedded in the implementation steps, but are always shown in bold. \n",
    "Don't forget to answer the questions.\n",
    ":::"
   ]
  },
  {
   "cell_type": "markdown",
   "metadata": {},
   "source": [
    "## Code for simulating a 2D Ising Model\n",
    "\n",
    "The following cell defines the `IsingModel2D` class, which implements a numerical representation of a 2D Ising Model \n",
    "and the associated MCMC simulation methods."
   ]
  },
  {
   "cell_type": "code",
   "execution_count": null,
   "metadata": {
    "tags": [
     "hide-input"
    ]
   },
   "outputs": [],
   "source": [
    "import numpy as np\n",
    "import matplotlib.pyplot as plt\n",
    "\n",
    "class IsingModel2D:\n",
    "    def __init__(self, side_size: int, boundaries=None, initial_values=\"cold\", antiferro=False):\n",
    "        self._side_size = int(side_size)\n",
    "        self._size = self._side_size * self._side_size\n",
    "\n",
    "        indices = np.arange(self._size).reshape((self._side_size, self._side_size))\n",
    "        neighbor_indices = np.stack([\n",
    "            np.roll(indices, 1, 0),   # up\n",
    "            np.roll(indices, -1, 1),  # right\n",
    "            np.roll(indices, -1, 0),  # down\n",
    "            np.roll(indices, 1, 1),   # left\n",
    "        ])\n",
    "\n",
    "        if boundaries not in [None, \"periodic\"]:\n",
    "            try:\n",
    "                bu, br, bd, bl = boundaries\n",
    "            except TypeError:\n",
    "                bu = br = bd = bl = boundaries\n",
    "            idx = np.arange(self._size, self._size + 3)\n",
    "            for bv, s in zip([bu, br, bd, bl], [(0,0), (1,Ellipsis,-1), (2,-1), (3,Ellipsis,0)]):\n",
    "                neighbor_indices[s] = idx[int(np.sign(bv))]\n",
    "\n",
    "        self._neighbor_indices = neighbor_indices.reshape(4, self._size).T\n",
    "\n",
    "        self._data = np.empty(self._size + 3, dtype=np.int32)\n",
    "        self._data[-3:] = [0, 1, -1]\n",
    "        if isinstance(initial_values, str):\n",
    "            if initial_values == \"hot\":\n",
    "                self.data = np.random.default_rng().random(self._size) >= 0.5\n",
    "            elif initial_values == \"cold\":\n",
    "                self.data = 1\n",
    "        else:\n",
    "            self.data = initial_values\n",
    "\n",
    "        self._J = float(-1 if antiferro else 1)\n",
    "\n",
    "    @property\n",
    "    def size(self):\n",
    "        return self._size\n",
    "\n",
    "    @property\n",
    "    def data(self):\n",
    "        return self._data[:-3].reshape(self._side_size, self._side_size).copy()\n",
    "\n",
    "    @data.setter\n",
    "    def data(self, value):\n",
    "        value = np.ravel(value)\n",
    "        if len(value) not in [1, self._size]:\n",
    "            raise ValueError(f\"`value` must be a single value or an array of size {self._size}\")\n",
    "        new_value = np.ones(len(value), dtype=np.int32)\n",
    "        new_value[~(value > 0)] = -1\n",
    "        if len(new_value) == 1:\n",
    "            new_value = new_value[0]\n",
    "        self._data[:-3] = new_value\n",
    "\n",
    "    def show(self, **kwargs):\n",
    "        plt.matshow(self.data, vmax=1, vmin=-1, **kwargs)\n",
    "\n",
    "    def _check_site_index(self, site_index: int):\n",
    "        if not isinstance(site_index, int):\n",
    "            i, j = site_index\n",
    "            site_index = int(i) * self._side_size + int(j)\n",
    "        if site_index >= 0 and site_index < self._size:\n",
    "            return site_index\n",
    "        raise ValueError(f\"`site_index` must be between 0 and {self._size - 1} (inclusive)\")\n",
    "\n",
    "    def calc_magnetization(self):\n",
    "        return self._data[:self._size].sum(dtype=np.float64) / self._size\n",
    "\n",
    "    def calc_total_energy(self, ext_field=0.0):\n",
    "        energy = (\n",
    "            self._data[self._neighbor_indices].sum(axis=1, dtype=np.float64)\n",
    "            * self._data[:self._size]\n",
    "        ).sum(dtype=np.float64) * self._J * (-0.5)\n",
    "        if ext_field:\n",
    "            energy -= self._data[:self._size].sum(dtype=np.float64) * float(ext_field)\n",
    "        return energy\n",
    "\n",
    "    def calc_local_energy(self, site_index: int, ext_field=0.0):\n",
    "        site_index = self._check_site_index(site_index)\n",
    "        energy = (\n",
    "            self._data[self._neighbor_indices[site_index]].sum(dtype=np.float64)\n",
    "            * self._data[site_index]\n",
    "            * self._J\n",
    "            * (-1.0)\n",
    "        )\n",
    "        if ext_field:\n",
    "            energy -= self._data[site_index] * float(ext_field)\n",
    "        return energy\n",
    "\n",
    "    def flip(self, site_index):\n",
    "        self._data[self._check_site_index(site_index)] *= -1\n",
    "\n",
    "    def transition_prob_metropolis(self, site_index: int, beta: float, ext_field=0.0):\n",
    "        return np.exp(2.0 * beta * self.calc_local_energy(site_index, ext_field))\n",
    "\n",
    "    def transition_prob_gibbs(self, site_index: int, beta: float, ext_field=0.0):\n",
    "        return 1.0 / (1.0 + np.exp(-2.0 * beta * self.calc_local_energy(site_index, ext_field)))\n",
    "\n",
    "    def sweep(self, beta, ext_field=0.0, nsweeps=1, seed=None, transition_prob=\"metropolis\"):\n",
    "        rng = np.random.default_rng(seed)\n",
    "        transition_prob_func = getattr(self, f\"transition_prob_{transition_prob}\")\n",
    "        accept = 0\n",
    "        for _  in range(nsweeps):\n",
    "            for i in range(self._size):\n",
    "                if rng.random() < transition_prob_func(i, beta, ext_field):\n",
    "                    self.flip(i)\n",
    "                    accept += 1\n",
    "        return accept / self._size / nsweeps"
   ]
  },
  {
   "cell_type": "markdown",
   "metadata": {},
   "source": [
    "## A. Energy and Magnetization Calculations\n",
    "\n",
    "The following cell shows a 3-by-3 two-dimensional Ising model with a specific initial condition. \n",
    "\n",
    "The yellow/light color in the image represents a spin of $+1$, and the purple/dark color represents a spin of $-1$.\n",
    "\n",
    "1. **Calculate the average magnetization** $\\frac{1}{N} \\sum_i \\sigma_i$. \n",
    "2. **Calculate the energy from pairs associated with the central cell [with indices (1,1)]**:\n",
    "\n",
    "    $$ \n",
    "    - \\sum_{j \\in D} \\sigma_i \\sigma_j \\text{, where } i=(1,1) \\text{ and } D = \\text{neighbors of } i \n",
    "    $$\n",
    "\n",
    "3. **If the spin of the central cell flips from $+1$ to $-1$, how much will the total energy of the system change?**\n",
    "4. **How do your answers to (2) and (3) relate to each other? Briefly explain.**\n",
    "5. Verify your answers with the code below. **Does the result agree with your calculations?**"
   ]
  },
  {
   "cell_type": "markdown",
   "metadata": {},
   "source": [
    "--- \n",
    "*// Write your answers to Part A here*\n",
    "\n",
    "\n",
    "---"
   ]
  },
  {
   "cell_type": "code",
   "execution_count": null,
   "metadata": {},
   "outputs": [],
   "source": [
    "# Do not edit this cell\n",
    "m = IsingModel2D(side_size=3, initial_values=[1,-1,-1,-1,1,1,1,-1,1])\n",
    "m.show()"
   ]
  },
  {
   "cell_type": "code",
   "execution_count": null,
   "metadata": {},
   "outputs": [],
   "source": [
    "# Uncomment and run the following codes to verify your answers\n",
    "\n",
    "#print(\"1. Average magnetization:\", m.calc_magnetization())\n",
    "\n",
    "#print(\"2. Local energy of site (1,1):\", m.calc_local_energy(site_index=(1,1)))\n",
    "\n",
    "#print(\"3. Total energy before flip:\", m.calc_total_energy())\n",
    "#m.flip(site_index=(1,1))\n",
    "#print(\"3. Total energy after flip:\", m.calc_total_energy())"
   ]
  },
  {
   "cell_type": "markdown",
   "metadata": {},
   "source": [
    "## Demo: how the sweep method works"
   ]
  },
  {
   "cell_type": "code",
   "execution_count": null,
   "metadata": {},
   "outputs": [],
   "source": [
    "m = IsingModel2D(side_size=3, initial_values=\"hot\")\n",
    "m.show()\n",
    "\n",
    "m.sweep(0.3, nsweeps=1)\n",
    "m.show()"
   ]
  },
  {
   "cell_type": "markdown",
   "metadata": {},
   "source": [
    "## B. Critical Temperature\n",
    "\n",
    "We will run a simulation and gradually lower the temperature, in order to observe how the magnetization changes with temperature. \n",
    "\n",
    "1. Set up a 25-by-25 lattice with the \"hot\" initial condition. \n",
    "2. We will vary `beta` ($\\beta = kT$) from 0.1 to 0.9, with a step of 0.02. \n",
    "3. For each value of `beta`, we will run 20 \"sweeps\". \n",
    "4. We will measure the average magnetization (averaged over sites) for each value of `beta`, after the 20 sweeps ran. \n",
    "5. Make a plot of the average magnetization as a function of `beta` ($m$-$\\beta$ relation).\n",
    "6. **Describe what you observe. Does the magnetization show a sudden change at a certain value of $\\beta$?** "
   ]
  },
  {
   "cell_type": "markdown",
   "metadata": {},
   "source": [
    "--- \n",
    "*// Write your answers to Part B here*\n",
    "\n",
    "\n",
    "---"
   ]
  },
  {
   "cell_type": "code",
   "execution_count": null,
   "metadata": {},
   "outputs": [],
   "source": [
    "# Include your implementation for Part B here\n"
   ]
  },
  {
   "cell_type": "markdown",
   "metadata": {},
   "source": [
    "## C. Experiment!\n",
    "\n",
    "Choose *at least one* of the following to experiment, and observe how the $m$-$\\beta$ relation changes:\n",
    "\n",
    "- as the external field strength changes (choose a few values from 0 to 2; set `ext_field` when `sweep` is called)\n",
    "- as the lattice size changes (choose a few numbers between 5 and 100; set `side_size` when setting up the model)\n",
    "- as the boundary condition changes (try `1`, `-1`, `[1,1,-1,-1]`, `[1,-1,1,-1]`; set `boundaries` when setting up the model)\n",
    "\n",
    "**Describe what you observe.**"
   ]
  },
  {
   "cell_type": "markdown",
   "metadata": {},
   "source": [
    "--- \n",
    "*// Write your answers to Part C here*\n",
    "\n",
    "\n",
    "---"
   ]
  },
  {
   "cell_type": "code",
   "execution_count": null,
   "metadata": {},
   "outputs": [],
   "source": [
    "# Include your implementation for Part C here\n"
   ]
  },
  {
   "cell_type": "markdown",
   "metadata": {},
   "source": [
    "## Final question\n",
    "\n",
    "Roughly how much time did you spend on this lab (*not* including the time you spent in class)?"
   ]
  },
  {
   "cell_type": "markdown",
   "metadata": {},
   "source": [
    "--- \n",
    "*// Write your answers here*\n",
    "\n",
    "\n",
    "---"
   ]
  },
  {
   "cell_type": "markdown",
   "metadata": {},
   "source": [
    ":::{tip}\n",
    "**How to submit this notebook on Canvas?**\n",
    "\n",
    "Once you complete this lab and have all your code, text answers, and all the desired results after running the notebook properly displayed in this notebook, \n",
    "please convert the notebook into HTML format by running the following:\n",
    "\n",
    "```sh\n",
    "jupyter nbconvert --to html /path/to/labs/07.ipynb \n",
    "```\n",
    "\n",
    "Then, upload the resulting HTML file to Canvas for the corresponding assignment. \n",
    ":::"
   ]
  }
 ],
 "metadata": {
  "kernelspec": {
   "display_name": "book",
   "language": "python",
   "name": "python3"
  },
  "language_info": {
   "codemirror_mode": {
    "name": "ipython",
    "version": 3
   },
   "file_extension": ".py",
   "mimetype": "text/x-python",
   "name": "python",
   "nbconvert_exporter": "python",
   "pygments_lexer": "ipython3",
   "version": "3.11.7"
  }
 },
 "nbformat": 4,
 "nbformat_minor": 2
}
